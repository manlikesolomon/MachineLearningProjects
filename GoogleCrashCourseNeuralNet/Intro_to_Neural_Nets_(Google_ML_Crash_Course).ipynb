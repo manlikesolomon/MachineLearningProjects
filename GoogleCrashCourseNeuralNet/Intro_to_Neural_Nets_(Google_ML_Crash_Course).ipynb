{
  "nbformat": 4,
  "nbformat_minor": 0,
  "metadata": {
    "colab": {
      "provenance": []
    },
    "kernelspec": {
      "name": "python3",
      "display_name": "Python 3"
    },
    "language_info": {
      "name": "python"
    }
  },
  "cells": [
    {
      "cell_type": "markdown",
      "source": [
        "In this project we are going to be recreating the google machine learning crash course project on introduction to Neural Nets. This Colab builds a deep neural network to perform more sophisticated linear regression than the earlier Colabs."
      ],
      "metadata": {
        "id": "4TqVHBcYiTOj"
      }
    },
    {
      "cell_type": "markdown",
      "source": [
        "**DATASET**\n",
        "\n",
        "We are going to be using the California Housing Dataset."
      ],
      "metadata": {
        "id": "zxzUgYT_isYh"
      }
    },
    {
      "cell_type": "code",
      "source": [
        "# importing relevant models\n",
        "import tensorflow as tf\n",
        "from tensorflow import keras\n",
        "import numpy as np\n",
        "import pandas as pd\n",
        "import matplotlib.pyplot as plt\n",
        "import seaborn as sns"
      ],
      "metadata": {
        "id": "fYD06rNMjDHu"
      },
      "execution_count": 1,
      "outputs": []
    },
    {
      "cell_type": "code",
      "source": [
        "# loading our dataset\n",
        "train_df = pd.read_csv('https://download.mlcc.google.com/mledu-datasets/california_housing_train.csv')\n",
        "test_df = pd.read_csv('https://download.mlcc.google.com/mledu-datasets/california_housing_test.csv')\n",
        "\n",
        "#suffling our training data\n",
        "train_df = train_df.sample(frac=1)\n",
        "display(train_df.head())\n",
        "print(f'Train data shape: {train_df.shape}\\nTest data shape: {test_df.shape}')"
      ],
      "metadata": {
        "colab": {
          "base_uri": "https://localhost:8080/",
          "height": 241
        },
        "id": "6YAVL11yj3p1",
        "outputId": "58f750c1-bd20-4bde-934a-12a641fdede2"
      },
      "execution_count": 2,
      "outputs": [
        {
          "output_type": "display_data",
          "data": {
            "text/plain": [
              "       longitude  latitude  housing_median_age  total_rooms  total_bedrooms  \\\n",
              "10370    -120.16     39.01                16.0       1463.0           264.0   \n",
              "1949     -117.30     34.14                39.0       1781.0           335.0   \n",
              "10420    -120.27     38.31                13.0       3297.0           662.0   \n",
              "4220     -118.00     34.15                48.0       3436.0           673.0   \n",
              "12941    -121.84     37.98                 8.0       7505.0          1089.0   \n",
              "\n",
              "       population  households  median_income  median_house_value  \n",
              "10370        54.0        26.0         4.9750            206300.0  \n",
              "1949        841.0       320.0         1.9432             89000.0  \n",
              "10420       267.0        97.0         3.0750            108300.0  \n",
              "4220       1540.0       648.0         4.2750            256800.0  \n",
              "12941      3325.0      1016.0         5.2699            204200.0  "
            ],
            "text/html": [
              "\n",
              "  <div id=\"df-ba495558-8ada-414d-bc2d-71c5c6082691\">\n",
              "    <div class=\"colab-df-container\">\n",
              "      <div>\n",
              "<style scoped>\n",
              "    .dataframe tbody tr th:only-of-type {\n",
              "        vertical-align: middle;\n",
              "    }\n",
              "\n",
              "    .dataframe tbody tr th {\n",
              "        vertical-align: top;\n",
              "    }\n",
              "\n",
              "    .dataframe thead th {\n",
              "        text-align: right;\n",
              "    }\n",
              "</style>\n",
              "<table border=\"1\" class=\"dataframe\">\n",
              "  <thead>\n",
              "    <tr style=\"text-align: right;\">\n",
              "      <th></th>\n",
              "      <th>longitude</th>\n",
              "      <th>latitude</th>\n",
              "      <th>housing_median_age</th>\n",
              "      <th>total_rooms</th>\n",
              "      <th>total_bedrooms</th>\n",
              "      <th>population</th>\n",
              "      <th>households</th>\n",
              "      <th>median_income</th>\n",
              "      <th>median_house_value</th>\n",
              "    </tr>\n",
              "  </thead>\n",
              "  <tbody>\n",
              "    <tr>\n",
              "      <th>10370</th>\n",
              "      <td>-120.16</td>\n",
              "      <td>39.01</td>\n",
              "      <td>16.0</td>\n",
              "      <td>1463.0</td>\n",
              "      <td>264.0</td>\n",
              "      <td>54.0</td>\n",
              "      <td>26.0</td>\n",
              "      <td>4.9750</td>\n",
              "      <td>206300.0</td>\n",
              "    </tr>\n",
              "    <tr>\n",
              "      <th>1949</th>\n",
              "      <td>-117.30</td>\n",
              "      <td>34.14</td>\n",
              "      <td>39.0</td>\n",
              "      <td>1781.0</td>\n",
              "      <td>335.0</td>\n",
              "      <td>841.0</td>\n",
              "      <td>320.0</td>\n",
              "      <td>1.9432</td>\n",
              "      <td>89000.0</td>\n",
              "    </tr>\n",
              "    <tr>\n",
              "      <th>10420</th>\n",
              "      <td>-120.27</td>\n",
              "      <td>38.31</td>\n",
              "      <td>13.0</td>\n",
              "      <td>3297.0</td>\n",
              "      <td>662.0</td>\n",
              "      <td>267.0</td>\n",
              "      <td>97.0</td>\n",
              "      <td>3.0750</td>\n",
              "      <td>108300.0</td>\n",
              "    </tr>\n",
              "    <tr>\n",
              "      <th>4220</th>\n",
              "      <td>-118.00</td>\n",
              "      <td>34.15</td>\n",
              "      <td>48.0</td>\n",
              "      <td>3436.0</td>\n",
              "      <td>673.0</td>\n",
              "      <td>1540.0</td>\n",
              "      <td>648.0</td>\n",
              "      <td>4.2750</td>\n",
              "      <td>256800.0</td>\n",
              "    </tr>\n",
              "    <tr>\n",
              "      <th>12941</th>\n",
              "      <td>-121.84</td>\n",
              "      <td>37.98</td>\n",
              "      <td>8.0</td>\n",
              "      <td>7505.0</td>\n",
              "      <td>1089.0</td>\n",
              "      <td>3325.0</td>\n",
              "      <td>1016.0</td>\n",
              "      <td>5.2699</td>\n",
              "      <td>204200.0</td>\n",
              "    </tr>\n",
              "  </tbody>\n",
              "</table>\n",
              "</div>\n",
              "      <button class=\"colab-df-convert\" onclick=\"convertToInteractive('df-ba495558-8ada-414d-bc2d-71c5c6082691')\"\n",
              "              title=\"Convert this dataframe to an interactive table.\"\n",
              "              style=\"display:none;\">\n",
              "        \n",
              "  <svg xmlns=\"http://www.w3.org/2000/svg\" height=\"24px\"viewBox=\"0 0 24 24\"\n",
              "       width=\"24px\">\n",
              "    <path d=\"M0 0h24v24H0V0z\" fill=\"none\"/>\n",
              "    <path d=\"M18.56 5.44l.94 2.06.94-2.06 2.06-.94-2.06-.94-.94-2.06-.94 2.06-2.06.94zm-11 1L8.5 8.5l.94-2.06 2.06-.94-2.06-.94L8.5 2.5l-.94 2.06-2.06.94zm10 10l.94 2.06.94-2.06 2.06-.94-2.06-.94-.94-2.06-.94 2.06-2.06.94z\"/><path d=\"M17.41 7.96l-1.37-1.37c-.4-.4-.92-.59-1.43-.59-.52 0-1.04.2-1.43.59L10.3 9.45l-7.72 7.72c-.78.78-.78 2.05 0 2.83L4 21.41c.39.39.9.59 1.41.59.51 0 1.02-.2 1.41-.59l7.78-7.78 2.81-2.81c.8-.78.8-2.07 0-2.86zM5.41 20L4 18.59l7.72-7.72 1.47 1.35L5.41 20z\"/>\n",
              "  </svg>\n",
              "      </button>\n",
              "      \n",
              "  <style>\n",
              "    .colab-df-container {\n",
              "      display:flex;\n",
              "      flex-wrap:wrap;\n",
              "      gap: 12px;\n",
              "    }\n",
              "\n",
              "    .colab-df-convert {\n",
              "      background-color: #E8F0FE;\n",
              "      border: none;\n",
              "      border-radius: 50%;\n",
              "      cursor: pointer;\n",
              "      display: none;\n",
              "      fill: #1967D2;\n",
              "      height: 32px;\n",
              "      padding: 0 0 0 0;\n",
              "      width: 32px;\n",
              "    }\n",
              "\n",
              "    .colab-df-convert:hover {\n",
              "      background-color: #E2EBFA;\n",
              "      box-shadow: 0px 1px 2px rgba(60, 64, 67, 0.3), 0px 1px 3px 1px rgba(60, 64, 67, 0.15);\n",
              "      fill: #174EA6;\n",
              "    }\n",
              "\n",
              "    [theme=dark] .colab-df-convert {\n",
              "      background-color: #3B4455;\n",
              "      fill: #D2E3FC;\n",
              "    }\n",
              "\n",
              "    [theme=dark] .colab-df-convert:hover {\n",
              "      background-color: #434B5C;\n",
              "      box-shadow: 0px 1px 3px 1px rgba(0, 0, 0, 0.15);\n",
              "      filter: drop-shadow(0px 1px 2px rgba(0, 0, 0, 0.3));\n",
              "      fill: #FFFFFF;\n",
              "    }\n",
              "  </style>\n",
              "\n",
              "      <script>\n",
              "        const buttonEl =\n",
              "          document.querySelector('#df-ba495558-8ada-414d-bc2d-71c5c6082691 button.colab-df-convert');\n",
              "        buttonEl.style.display =\n",
              "          google.colab.kernel.accessAllowed ? 'block' : 'none';\n",
              "\n",
              "        async function convertToInteractive(key) {\n",
              "          const element = document.querySelector('#df-ba495558-8ada-414d-bc2d-71c5c6082691');\n",
              "          const dataTable =\n",
              "            await google.colab.kernel.invokeFunction('convertToInteractive',\n",
              "                                                     [key], {});\n",
              "          if (!dataTable) return;\n",
              "\n",
              "          const docLinkHtml = 'Like what you see? Visit the ' +\n",
              "            '<a target=\"_blank\" href=https://colab.research.google.com/notebooks/data_table.ipynb>data table notebook</a>'\n",
              "            + ' to learn more about interactive tables.';\n",
              "          element.innerHTML = '';\n",
              "          dataTable['output_type'] = 'display_data';\n",
              "          await google.colab.output.renderOutput(dataTable, element);\n",
              "          const docLink = document.createElement('div');\n",
              "          docLink.innerHTML = docLinkHtml;\n",
              "          element.appendChild(docLink);\n",
              "        }\n",
              "      </script>\n",
              "    </div>\n",
              "  </div>\n",
              "  "
            ]
          },
          "metadata": {}
        },
        {
          "output_type": "stream",
          "name": "stdout",
          "text": [
            "Train data shape: (17000, 9)\n",
            "Test data shape: (3000, 9)\n"
          ]
        }
      ]
    },
    {
      "cell_type": "code",
      "source": [
        "# normalizing our data using z score\n",
        "train_df_mean = train_df.mean()\n",
        "train_df_std = train_df.std()\n",
        "train_df_norm = (train_df - train_df_mean) / train_df_std\n",
        "\n",
        "test_df_mean = test_df.mean()\n",
        "test_df_std = test_df.std()\n",
        "test_df_norm = (test_df - test_df_mean)/test_df_std"
      ],
      "metadata": {
        "id": "TJWkoF3KlQcM"
      },
      "execution_count": 3,
      "outputs": []
    },
    {
      "cell_type": "code",
      "source": [
        "from tensorflow.python.feature_column import feature_column\n",
        "# creating a feature layer that contains three columns\n",
        "\n",
        "#create an empty list to store our fearute columns\n",
        "feature_columns = []\n",
        "\n",
        "# creating a bucket feature column for latitude\n",
        "bucket_size = 0.3\n",
        "latitude_numeric = tf.feature_column.numeric_column('latitude')\n",
        "latitude_boundaries = list(np.arange(int(min(train_df.latitude)),\n",
        "                                     int(max(train_df.latitude)),\n",
        "                                         bucket_size))\n",
        "latitude = tf.feature_column.bucketized_column(latitude_numeric, latitude_boundaries)\n",
        "\n",
        "longitude_numeric = tf.feature_column.numeric_column('longitude')\n",
        "longitude_boundaries = list(np.arange(int(min(train_df.longitude)),\n",
        "                                      int(max(train_df.longitude)),\n",
        "                                      bucket_size))\n",
        "longitude = tf.feature_column.bucketized_column(longitude_numeric, longitude_boundaries)\n",
        "# crossing features\n",
        "latitude_x_longitude = tf.feature_column.crossed_column([latitude,longitude], hash_bucket_size=100)\n",
        "crossed_feature = tf.feature_column.indicator_column(latitude_x_longitude)\n",
        "feature_columns.append(crossed_feature)\n",
        "\n",
        "# represent median income as a float\n",
        "median_income = tf.feature_column.numeric_column('median_income')\n",
        "feature_columns.append(median_income)\n",
        "\n",
        "# represent population as a float\n",
        "population = tf.feature_column.numeric_column('population')\n",
        "feature_columns.append(population)\n",
        "\n",
        "#adding the feature_columns as the input layer\n",
        "feature_layer = keras.layers.DenseFeatures(feature_columns)"
      ],
      "metadata": {
        "id": "1aKq-RWRljj3"
      },
      "execution_count": 4,
      "outputs": []
    },
    {
      "cell_type": "code",
      "source": [
        "# building a linear regression model as a baseline\n",
        "lin_model = tf.keras.models.Sequential()\n",
        "# adding our feature layer as the first layer\n",
        "lin_model.add(feature_layer)\n",
        "# adding one layer to our simple linear regression model\n",
        "lin_model.add(keras.layers.Dense(units=1, input_shape=(1,)))\n",
        "opt = tf.keras.optimizers.RMSprop(learning_rate=0.01)\n",
        "loss = \"mean_squared_error\"\n",
        "metrics=[tf.keras.metrics.MeanSquaredError()]\n",
        "lin_model.compile(loss=loss, optimizer=opt, metrics=metrics)"
      ],
      "metadata": {
        "id": "q9Dcj3QXpCF8"
      },
      "execution_count": 5,
      "outputs": []
    },
    {
      "cell_type": "code",
      "source": [
        "# separate our dependent and independent variables\n",
        "y_train = np.array(train_df_norm.pop('median_house_value'))\n",
        "X_train = {name: np.array(value) for name, value in train_df_norm.items()}\n",
        "y_test = np.array(test_df_norm.pop('median_house_value'))\n",
        "X_test = {name: np.array(value) for name, value in test_df_norm.items()}"
      ],
      "metadata": {
        "id": "ic1MSjc3oRhR"
      },
      "execution_count": 6,
      "outputs": []
    },
    {
      "cell_type": "code",
      "source": [
        "# train our baseline model\n",
        "history = lin_model.fit(x=X_train, y=y_train, batch_size=1000,epochs=15)"
      ],
      "metadata": {
        "colab": {
          "base_uri": "https://localhost:8080/"
        },
        "id": "AmFdwOl9pw7Y",
        "outputId": "a8172315-ab6d-4722-9b7f-256b8fdfb0d4"
      },
      "execution_count": 7,
      "outputs": [
        {
          "output_type": "stream",
          "name": "stdout",
          "text": [
            "Epoch 1/15\n"
          ]
        },
        {
          "output_type": "stream",
          "name": "stderr",
          "text": [
            "WARNING:tensorflow:Layers in a Sequential model should only have a single input tensor. Received: inputs={'longitude': <tf.Tensor 'IteratorGetNext:3' shape=(1000,) dtype=float32>, 'latitude': <tf.Tensor 'IteratorGetNext:2' shape=(1000,) dtype=float32>, 'housing_median_age': <tf.Tensor 'IteratorGetNext:1' shape=(1000,) dtype=float32>, 'total_rooms': <tf.Tensor 'IteratorGetNext:7' shape=(1000,) dtype=float32>, 'total_bedrooms': <tf.Tensor 'IteratorGetNext:6' shape=(1000,) dtype=float32>, 'population': <tf.Tensor 'IteratorGetNext:5' shape=(1000,) dtype=float32>, 'households': <tf.Tensor 'IteratorGetNext:0' shape=(1000,) dtype=float32>, 'median_income': <tf.Tensor 'IteratorGetNext:4' shape=(1000,) dtype=float32>}. Consider rewriting this model with the Functional API.\n",
            "WARNING:tensorflow:Layers in a Sequential model should only have a single input tensor. Received: inputs={'longitude': <tf.Tensor 'IteratorGetNext:3' shape=(1000,) dtype=float32>, 'latitude': <tf.Tensor 'IteratorGetNext:2' shape=(1000,) dtype=float32>, 'housing_median_age': <tf.Tensor 'IteratorGetNext:1' shape=(1000,) dtype=float32>, 'total_rooms': <tf.Tensor 'IteratorGetNext:7' shape=(1000,) dtype=float32>, 'total_bedrooms': <tf.Tensor 'IteratorGetNext:6' shape=(1000,) dtype=float32>, 'population': <tf.Tensor 'IteratorGetNext:5' shape=(1000,) dtype=float32>, 'households': <tf.Tensor 'IteratorGetNext:0' shape=(1000,) dtype=float32>, 'median_income': <tf.Tensor 'IteratorGetNext:4' shape=(1000,) dtype=float32>}. Consider rewriting this model with the Functional API.\n"
          ]
        },
        {
          "output_type": "stream",
          "name": "stdout",
          "text": [
            "17/17 [==============================] - 1s 3ms/step - loss: 0.6754 - mean_squared_error: 0.6754\n",
            "Epoch 2/15\n",
            "17/17 [==============================] - 0s 3ms/step - loss: 0.5708 - mean_squared_error: 0.5708\n",
            "Epoch 3/15\n",
            "17/17 [==============================] - 0s 3ms/step - loss: 0.5320 - mean_squared_error: 0.5320\n",
            "Epoch 4/15\n",
            "17/17 [==============================] - 0s 4ms/step - loss: 0.5217 - mean_squared_error: 0.5217\n",
            "Epoch 5/15\n",
            "17/17 [==============================] - 0s 3ms/step - loss: 0.5209 - mean_squared_error: 0.5209\n",
            "Epoch 6/15\n",
            "17/17 [==============================] - 0s 3ms/step - loss: 0.5216 - mean_squared_error: 0.5216\n",
            "Epoch 7/15\n",
            "17/17 [==============================] - 0s 4ms/step - loss: 0.5212 - mean_squared_error: 0.5212\n",
            "Epoch 8/15\n",
            "17/17 [==============================] - 0s 3ms/step - loss: 0.5211 - mean_squared_error: 0.5211\n",
            "Epoch 9/15\n",
            "17/17 [==============================] - 0s 3ms/step - loss: 0.5212 - mean_squared_error: 0.5212\n",
            "Epoch 10/15\n",
            "17/17 [==============================] - 0s 4ms/step - loss: 0.5211 - mean_squared_error: 0.5211\n",
            "Epoch 11/15\n",
            "17/17 [==============================] - 0s 3ms/step - loss: 0.5211 - mean_squared_error: 0.5211\n",
            "Epoch 12/15\n",
            "17/17 [==============================] - 0s 3ms/step - loss: 0.5210 - mean_squared_error: 0.5210\n",
            "Epoch 13/15\n",
            "17/17 [==============================] - 0s 4ms/step - loss: 0.5213 - mean_squared_error: 0.5213\n",
            "Epoch 14/15\n",
            "17/17 [==============================] - 0s 3ms/step - loss: 0.5209 - mean_squared_error: 0.5209\n",
            "Epoch 15/15\n",
            "17/17 [==============================] - 0s 3ms/step - loss: 0.5214 - mean_squared_error: 0.5214\n"
          ]
        }
      ]
    },
    {
      "cell_type": "code",
      "source": [
        "epochs = history.epoch\n",
        "hist = pd.DataFrame(history.history)\n",
        "metrics = ['mean_squared_error']"
      ],
      "metadata": {
        "id": "LO2taZ2iqXDN"
      },
      "execution_count": 8,
      "outputs": []
    },
    {
      "cell_type": "code",
      "source": [
        "# define our plot function\n",
        "def plot(epochs, hist, metrics):\n",
        "  plt.figure()\n",
        "  plt.xlabel('Epochs')\n",
        "  plt.ylabel('Loss')\n",
        "  for x in metrics:\n",
        "    plt.plot(epochs, hist[x])\n",
        "  plt.show()"
      ],
      "metadata": {
        "id": "iKI4stGTsAe0"
      },
      "execution_count": 9,
      "outputs": []
    },
    {
      "cell_type": "code",
      "source": [
        "# plotting our loss function \n",
        "plot(epochs, hist, metrics)"
      ],
      "metadata": {
        "colab": {
          "base_uri": "https://localhost:8080/",
          "height": 279
        },
        "id": "ds2Ztb4Hs2fi",
        "outputId": "0f138ce5-7d4c-45c3-a40f-70503d978df7"
      },
      "execution_count": 10,
      "outputs": [
        {
          "output_type": "display_data",
          "data": {
            "text/plain": [
              "<Figure size 432x288 with 1 Axes>"
            ],
            "image/png": "[encoded data removed]"
          },
          "metadata": {
            "needs_background": "light"
          }
        }
      ]
    },
    {
      "cell_type": "code",
      "source": [
        "# evaluate the baseline model\n",
        "lin_model.evaluate(x=X_test, y=y_test, batch_size=1000)"
      ],
      "metadata": {
        "colab": {
          "base_uri": "https://localhost:8080/"
        },
        "id": "JnYmqfBws-np",
        "outputId": "144949d2-c6a1-4db8-eb23-a2be85c493e6"
      },
      "execution_count": 11,
      "outputs": [
        {
          "output_type": "stream",
          "name": "stderr",
          "text": [
            "WARNING:tensorflow:Layers in a Sequential model should only have a single input tensor. Received: inputs={'longitude': <tf.Tensor 'IteratorGetNext:3' shape=(1000,) dtype=float32>, 'latitude': <tf.Tensor 'IteratorGetNext:2' shape=(1000,) dtype=float32>, 'housing_median_age': <tf.Tensor 'IteratorGetNext:1' shape=(1000,) dtype=float32>, 'total_rooms': <tf.Tensor 'IteratorGetNext:7' shape=(1000,) dtype=float32>, 'total_bedrooms': <tf.Tensor 'IteratorGetNext:6' shape=(1000,) dtype=float32>, 'population': <tf.Tensor 'IteratorGetNext:5' shape=(1000,) dtype=float32>, 'households': <tf.Tensor 'IteratorGetNext:0' shape=(1000,) dtype=float32>, 'median_income': <tf.Tensor 'IteratorGetNext:4' shape=(1000,) dtype=float32>}. Consider rewriting this model with the Functional API.\n"
          ]
        },
        {
          "output_type": "stream",
          "name": "stdout",
          "text": [
            "3/3 [==============================] - 0s 6ms/step - loss: 0.5476 - mean_squared_error: 0.5476\n"
          ]
        },
        {
          "output_type": "execute_result",
          "data": {
            "text/plain": [
              "[0.5475926995277405, 0.5475926995277405]"
            ]
          },
          "metadata": {},
          "execution_count": 11
        }
      ]
    },
    {
      "cell_type": "code",
      "source": [
        "# define our deep neural network model\n",
        "model = tf.keras.Sequential()\n",
        "model.add(feature_layer)\n",
        "# adding our hidden layer\n",
        "model.add(keras.layers.Dense(units=10,\n",
        "                             activation='relu',\n",
        "                             name='hidden1'))\n",
        "# adding our second hidden layer\n",
        "model.add(keras.layers.Dense(units=6,\n",
        "                             activation='relu',\n",
        "                             name='hidden2'))\n",
        "# adding the output layer\n",
        "model.add(keras.layers.Dense(units=1,\n",
        "                             name='output'))\n",
        "model.compile(optimizer=tf.keras.optimizers.Adam(learning_rate=0.01),\n",
        "                loss=\"mean_squared_error\",\n",
        "                metrics=[tf.keras.metrics.MeanSquaredError()])"
      ],
      "metadata": {
        "id": "BTDS1HAYAOah"
      },
      "execution_count": 16,
      "outputs": []
    },
    {
      "cell_type": "code",
      "source": [
        "# train our model\n",
        "history = model.fit(x=X_train, y=y_train, epochs=20, batch_size=1000)"
      ],
      "metadata": {
        "colab": {
          "base_uri": "https://localhost:8080/"
        },
        "id": "eDlBSuLJB5NO",
        "outputId": "35a29d2a-ebc1-4c12-b8df-60dde78cd601"
      },
      "execution_count": 17,
      "outputs": [
        {
          "output_type": "stream",
          "name": "stdout",
          "text": [
            "Epoch 1/20\n"
          ]
        },
        {
          "output_type": "stream",
          "name": "stderr",
          "text": [
            "WARNING:tensorflow:Layers in a Sequential model should only have a single input tensor. Received: inputs={'longitude': <tf.Tensor 'IteratorGetNext:3' shape=(1000,) dtype=float32>, 'latitude': <tf.Tensor 'IteratorGetNext:2' shape=(1000,) dtype=float32>, 'housing_median_age': <tf.Tensor 'IteratorGetNext:1' shape=(1000,) dtype=float32>, 'total_rooms': <tf.Tensor 'IteratorGetNext:7' shape=(1000,) dtype=float32>, 'total_bedrooms': <tf.Tensor 'IteratorGetNext:6' shape=(1000,) dtype=float32>, 'population': <tf.Tensor 'IteratorGetNext:5' shape=(1000,) dtype=float32>, 'households': <tf.Tensor 'IteratorGetNext:0' shape=(1000,) dtype=float32>, 'median_income': <tf.Tensor 'IteratorGetNext:4' shape=(1000,) dtype=float32>}. Consider rewriting this model with the Functional API.\n",
            "WARNING:tensorflow:Layers in a Sequential model should only have a single input tensor. Received: inputs={'longitude': <tf.Tensor 'IteratorGetNext:3' shape=(1000,) dtype=float32>, 'latitude': <tf.Tensor 'IteratorGetNext:2' shape=(1000,) dtype=float32>, 'housing_median_age': <tf.Tensor 'IteratorGetNext:1' shape=(1000,) dtype=float32>, 'total_rooms': <tf.Tensor 'IteratorGetNext:7' shape=(1000,) dtype=float32>, 'total_bedrooms': <tf.Tensor 'IteratorGetNext:6' shape=(1000,) dtype=float32>, 'population': <tf.Tensor 'IteratorGetNext:5' shape=(1000,) dtype=float32>, 'households': <tf.Tensor 'IteratorGetNext:0' shape=(1000,) dtype=float32>, 'median_income': <tf.Tensor 'IteratorGetNext:4' shape=(1000,) dtype=float32>}. Consider rewriting this model with the Functional API.\n"
          ]
        },
        {
          "output_type": "stream",
          "name": "stdout",
          "text": [
            "17/17 [==============================] - 1s 5ms/step - loss: 0.8266 - mean_squared_error: 0.8266\n",
            "Epoch 2/20\n",
            "17/17 [==============================] - 0s 4ms/step - loss: 0.6410 - mean_squared_error: 0.6410\n",
            "Epoch 3/20\n",
            "17/17 [==============================] - 0s 5ms/step - loss: 0.5302 - mean_squared_error: 0.5302\n",
            "Epoch 4/20\n",
            "17/17 [==============================] - 0s 4ms/step - loss: 0.5119 - mean_squared_error: 0.5119\n",
            "Epoch 5/20\n",
            "17/17 [==============================] - 0s 5ms/step - loss: 0.5094 - mean_squared_error: 0.5094\n",
            "Epoch 6/20\n",
            "17/17 [==============================] - 0s 4ms/step - loss: 0.5082 - mean_squared_error: 0.5082\n",
            "Epoch 7/20\n",
            "17/17 [==============================] - 0s 5ms/step - loss: 0.5075 - mean_squared_error: 0.5075\n",
            "Epoch 8/20\n",
            "17/17 [==============================] - 0s 4ms/step - loss: 0.5074 - mean_squared_error: 0.5074\n",
            "Epoch 9/20\n",
            "17/17 [==============================] - 0s 4ms/step - loss: 0.5068 - mean_squared_error: 0.5068\n",
            "Epoch 10/20\n",
            "17/17 [==============================] - 0s 4ms/step - loss: 0.5065 - mean_squared_error: 0.5065\n",
            "Epoch 11/20\n",
            "17/17 [==============================] - 0s 5ms/step - loss: 0.5073 - mean_squared_error: 0.5073\n",
            "Epoch 12/20\n",
            "17/17 [==============================] - 0s 4ms/step - loss: 0.5062 - mean_squared_error: 0.5062\n",
            "Epoch 13/20\n",
            "17/17 [==============================] - 0s 5ms/step - loss: 0.5057 - mean_squared_error: 0.5057\n",
            "Epoch 14/20\n",
            "17/17 [==============================] - 0s 4ms/step - loss: 0.5067 - mean_squared_error: 0.5067\n",
            "Epoch 15/20\n",
            "17/17 [==============================] - 0s 4ms/step - loss: 0.5058 - mean_squared_error: 0.5058\n",
            "Epoch 16/20\n",
            "17/17 [==============================] - 0s 4ms/step - loss: 0.5051 - mean_squared_error: 0.5051\n",
            "Epoch 17/20\n",
            "17/17 [==============================] - 0s 4ms/step - loss: 0.5056 - mean_squared_error: 0.5056\n",
            "Epoch 18/20\n",
            "17/17 [==============================] - 0s 4ms/step - loss: 0.5048 - mean_squared_error: 0.5048\n",
            "Epoch 19/20\n",
            "17/17 [==============================] - 0s 4ms/step - loss: 0.5051 - mean_squared_error: 0.5051\n",
            "Epoch 20/20\n",
            "17/17 [==============================] - 0s 4ms/step - loss: 0.5048 - mean_squared_error: 0.5048\n"
          ]
        }
      ]
    },
    {
      "cell_type": "code",
      "source": [
        "epochs = history.epoch\n",
        "hist = pd.DataFrame(history.history)\n",
        "metrics = ['mean_squared_error']"
      ],
      "metadata": {
        "id": "xqqEEbmMGVTx"
      },
      "execution_count": 18,
      "outputs": []
    },
    {
      "cell_type": "code",
      "source": [
        "# plotting our loss function \n",
        "plot(epochs, hist, metrics)"
      ],
      "metadata": {
        "colab": {
          "base_uri": "https://localhost:8080/",
          "height": 279
        },
        "id": "HqWQN-VLwGES",
        "outputId": "f267d6cd-f532-4903-c028-6a22e637d194"
      },
      "execution_count": 19,
      "outputs": [
        {
          "output_type": "display_data",
          "data": {
            "text/plain": [
              "<Figure size 432x288 with 1 Axes>"
            ],
            "image/png": "[encoded data removed]"
          },
          "metadata": {
            "needs_background": "light"
          }
        }
      ]
    },
    {
      "cell_type": "code",
      "source": [
        "# evaluate our neural net\n",
        "model.evaluate(x=X_test, y=y_test, batch_size=1000)"
      ],
      "metadata": {
        "colab": {
          "base_uri": "https://localhost:8080/"
        },
        "id": "pKScIOz-wHoU",
        "outputId": "894b64ca-c69f-488b-cb97-241001f4954b"
      },
      "execution_count": 20,
      "outputs": [
        {
          "output_type": "stream",
          "name": "stderr",
          "text": [
            "WARNING:tensorflow:Layers in a Sequential model should only have a single input tensor. Received: inputs={'longitude': <tf.Tensor 'IteratorGetNext:3' shape=(1000,) dtype=float32>, 'latitude': <tf.Tensor 'IteratorGetNext:2' shape=(1000,) dtype=float32>, 'housing_median_age': <tf.Tensor 'IteratorGetNext:1' shape=(1000,) dtype=float32>, 'total_rooms': <tf.Tensor 'IteratorGetNext:7' shape=(1000,) dtype=float32>, 'total_bedrooms': <tf.Tensor 'IteratorGetNext:6' shape=(1000,) dtype=float32>, 'population': <tf.Tensor 'IteratorGetNext:5' shape=(1000,) dtype=float32>, 'households': <tf.Tensor 'IteratorGetNext:0' shape=(1000,) dtype=float32>, 'median_income': <tf.Tensor 'IteratorGetNext:4' shape=(1000,) dtype=float32>}. Consider rewriting this model with the Functional API.\n"
          ]
        },
        {
          "output_type": "stream",
          "name": "stdout",
          "text": [
            "3/3 [==============================] - 0s 5ms/step - loss: 0.5312 - mean_squared_error: 0.5312\n"
          ]
        },
        {
          "output_type": "execute_result",
          "data": {
            "text/plain": [
              "[0.5312402844429016, 0.5312402844429016]"
            ]
          },
          "metadata": {},
          "execution_count": 20
        }
      ]
    },
    {
      "cell_type": "code",
      "source": [],
      "metadata": {
        "id": "jGi4UDtnxNZy"
      },
      "execution_count": null,
      "outputs": []
    }
  ]
}