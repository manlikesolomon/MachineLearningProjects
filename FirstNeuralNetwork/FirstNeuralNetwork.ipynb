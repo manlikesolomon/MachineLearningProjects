{
  "cells": [
    {
      "cell_type": "code",
      "execution_count": 1,
      "metadata": {
        "id": "_eUD9kigq_uO"
      },
      "outputs": [],
      "source": [
        "#importing libraries\n",
        "import tensorflow as tf\n",
        "from tensorflow import keras\n",
        "import numpy as np\n",
        "import pandas as pd\n",
        "import matplotlib.pyplot as plt\n",
        "import seaborn as sns"
      ]
    },
    {
      "cell_type": "code",
      "execution_count": 2,
      "metadata": {
        "colab": {
          "base_uri": "https://localhost:8080/"
        },
        "id": "eaw6VL3VrUXG",
        "outputId": "b6a7fc08-0325-4a8d-d488-80b3fe0ecac1"
      },
      "outputs": [
        {
          "output_type": "stream",
          "name": "stdout",
          "text": [
            "Downloading data from https://storage.googleapis.com/tensorflow/tf-keras-datasets/mnist.npz\n",
            "11490434/11490434 [==============================] - 1s 0us/step\n",
            "(60000, 28, 28) (60000,)\n"
          ]
        }
      ],
      "source": [
        "#getting our data\n",
        "mnist = keras.datasets.mnist\n",
        "(x_train, y_train), (x_test, y_test) = mnist.load_data()\n",
        "print(x_train.shape, y_train.shape)"
      ]
    },
    {
      "cell_type": "code",
      "execution_count": 3,
      "metadata": {
        "id": "v3BQabonru4c"
      },
      "outputs": [],
      "source": [
        "# normalize our data\n",
        "x_train, x_test = x_train / 255.0, x_test/255.0"
      ]
    },
    {
      "cell_type": "code",
      "execution_count": 4,
      "metadata": {
        "colab": {
          "base_uri": "https://localhost:8080/",
          "height": 267
        },
        "id": "ajmprNi3s9jo",
        "outputId": "52b3e600-6f18-4555-8277-0d6ea3e01b5e"
      },
      "outputs": [
        {
          "output_type": "display_data",
          "data": {
            "text/plain": [
              "<Figure size 432x288 with 6 Axes>"
            ],
            "image/png": "[encoded data removed]"
          },
          "metadata": {
            "needs_background": "light"
          }
        }
      ],
      "source": [
        "#ploting some of the examples\n",
        "for i in range(6):\n",
        "  plt.subplot(2,3,i+1)\n",
        "  plt.imshow(x_train[i],cmap='gray')\n",
        "plt.show()"
      ]
    },
    {
      "cell_type": "code",
      "execution_count": 5,
      "metadata": {
        "colab": {
          "base_uri": "https://localhost:8080/"
        },
        "id": "KCJqHXxntxTy",
        "outputId": "034a197f-e8e4-4012-d191-c9db9e8a9689"
      },
      "outputs": [
        {
          "output_type": "stream",
          "name": "stdout",
          "text": [
            "Model: \"sequential\"\n",
            "_________________________________________________________________\n",
            " Layer (type)                Output Shape              Param #   \n",
            "=================================================================\n",
            " flatten (Flatten)           (None, 784)               0         \n",
            "                                                                 \n",
            " dense (Dense)               (None, 128)               100480    \n",
            "                                                                 \n",
            " dense_1 (Dense)             (None, 10)                1290      \n",
            "                                                                 \n",
            "=================================================================\n",
            "Total params: 101,770\n",
            "Trainable params: 101,770\n",
            "Non-trainable params: 0\n",
            "_________________________________________________________________\n",
            "None\n"
          ]
        }
      ],
      "source": [
        "#building our model\n",
        "model = keras.models.Sequential(\n",
        "    [keras.layers.Flatten(input_shape=(28,28)),\n",
        "    keras.layers.Dense(128, activation='relu'),\n",
        "    keras.layers.Dense(10)]\n",
        ")\n",
        "print(model.summary())"
      ]
    },
    {
      "cell_type": "code",
      "execution_count": 6,
      "metadata": {
        "id": "hkqfe9w7EuJV",
        "colab": {
          "base_uri": "https://localhost:8080/"
        },
        "outputId": "29d09947-3405-4af2-8cab-4bc39feb35e0"
      },
      "outputs": [
        {
          "output_type": "stream",
          "name": "stderr",
          "text": [
            "/usr/local/lib/python3.8/dist-packages/keras/optimizers/optimizer_v2/adam.py:110: UserWarning: The `lr` argument is deprecated, use `learning_rate` instead.\n",
            "  super(Adam, self).__init__(name, **kwargs)\n"
          ]
        }
      ],
      "source": [
        "#loss and optimizer\n",
        "loss = keras.losses.SparseCategoricalCrossentropy(from_logits=True)\n",
        "optim = keras.optimizers.Adam(lr=0.01)\n",
        "metrics = ['accuracy']\n",
        "\n",
        "model.compile(loss=loss, optimizer=optim, metrics=metrics)"
      ]
    },
    {
      "cell_type": "code",
      "execution_count": 7,
      "metadata": {
        "colab": {
          "base_uri": "https://localhost:8080/"
        },
        "id": "sC4SaMC3HQ1x",
        "outputId": "57022d33-1581-45dc-8c80-e3521f42d732"
      },
      "outputs": [
        {
          "output_type": "stream",
          "name": "stdout",
          "text": [
            "Epoch 1/5\n",
            "938/938 - 4s - loss: 0.2186 - accuracy: 0.9338 - 4s/epoch - 4ms/step\n",
            "Epoch 2/5\n",
            "938/938 - 3s - loss: 0.1328 - accuracy: 0.9616 - 3s/epoch - 3ms/step\n",
            "Epoch 3/5\n",
            "938/938 - 3s - loss: 0.1155 - accuracy: 0.9658 - 3s/epoch - 3ms/step\n",
            "Epoch 4/5\n",
            "938/938 - 3s - loss: 0.0997 - accuracy: 0.9717 - 3s/epoch - 3ms/step\n",
            "Epoch 5/5\n",
            "938/938 - 3s - loss: 0.0914 - accuracy: 0.9744 - 3s/epoch - 3ms/step\n"
          ]
        },
        {
          "output_type": "execute_result",
          "data": {
            "text/plain": [
              "<keras.callbacks.History at 0x7fc1e5755190>"
            ]
          },
          "metadata": {},
          "execution_count": 7
        }
      ],
      "source": [
        "#training our model\n",
        "batch_size = 64\n",
        "epochs = 5\n",
        "\n",
        "model.fit(x_train, y_train, batch_size=batch_size, epochs=epochs, shuffle=True, verbose=2)"
      ]
    },
    {
      "cell_type": "code",
      "execution_count": 8,
      "metadata": {
        "colab": {
          "base_uri": "https://localhost:8080/"
        },
        "id": "UdVX9NBnHxDy",
        "outputId": "547be68f-7117-42b8-f256-953906f7e548"
      },
      "outputs": [
        {
          "output_type": "stream",
          "name": "stdout",
          "text": [
            "157/157 - 0s - loss: 0.1564 - accuracy: 0.9640 - 424ms/epoch - 3ms/step\n"
          ]
        },
        {
          "output_type": "execute_result",
          "data": {
            "text/plain": [
              "[0.15636956691741943, 0.9639999866485596]"
            ]
          },
          "metadata": {},
          "execution_count": 8
        }
      ],
      "source": [
        "#evaluate our model\n",
        "model.evaluate(x_test, y_test, batch_size=batch_size, verbose=2)"
      ]
    },
    {
      "cell_type": "code",
      "execution_count": 9,
      "metadata": {
        "colab": {
          "base_uri": "https://localhost:8080/"
        },
        "id": "bMW9Jb4vIZEx",
        "outputId": "787795f7-99d3-47cf-f530-ff4d89782f83"
      },
      "outputs": [
        {
          "output_type": "stream",
          "name": "stdout",
          "text": [
            "tf.Tensor(\n",
            "[2.7957053e-21 2.4463112e-10 1.7348244e-09 1.6926330e-07 5.9004283e-21\n",
            " 5.6498426e-16 3.5798923e-31 9.9999982e-01 4.5853239e-16 4.7446650e-17], shape=(10,), dtype=float32)\n",
            "7\n"
          ]
        }
      ],
      "source": [
        "#making predictions\n",
        "probability_model = keras.models.Sequential(\n",
        "    [model,\n",
        "    keras.layers.Softmax()]\n",
        ")\n",
        "predictions = probability_model(x_test)\n",
        "pred0 = predictions[0]\n",
        "print(pred0)\n",
        "label0 = np.argmax(pred0)\n",
        "print(label0)"
      ]
    },
    {
      "cell_type": "code",
      "execution_count": 10,
      "metadata": {
        "colab": {
          "base_uri": "https://localhost:8080/"
        },
        "id": "u_9TJTFkLe8I",
        "outputId": "d82edeab-97d5-4839-88f6-f9a68d5bc8a9"
      },
      "outputs": [
        {
          "output_type": "stream",
          "name": "stdout",
          "text": [
            "tf.Tensor(\n",
            "[2.7957053e-21 2.4463112e-10 1.7348244e-09 1.6926330e-07 5.9004283e-21\n",
            " 5.6498426e-16 3.5798923e-31 9.9999982e-01 4.5853239e-16 4.7446650e-17], shape=(10,), dtype=float32)\n",
            "7\n"
          ]
        }
      ],
      "source": [
        "#making predictions\n",
        "predictions = model(x_test)\n",
        "predictions = tf.nn.softmax(predictions)\n",
        "pred0 = predictions[0]\n",
        "print(pred0)\n",
        "label0 = np.argmax(pred0)\n",
        "print(label0)"
      ]
    },
    {
      "cell_type": "code",
      "execution_count": null,
      "metadata": {
        "id": "nANf6ZqhN4Zm"
      },
      "outputs": [],
      "source": []
    }
  ],
  "metadata": {
    "colab": {
      "provenance": []
    },
    "kernelspec": {
      "display_name": "Python 3 (ipykernel)",
      "language": "python",
      "name": "python3"
    },
    "language_info": {
      "codemirror_mode": {
        "name": "ipython",
        "version": 3
      },
      "file_extension": ".py",
      "mimetype": "text/x-python",
      "name": "python",
      "nbconvert_exporter": "python",
      "pygments_lexer": "ipython3",
      "version": "3.10.8"
    }
  },
  "nbformat": 4,
  "nbformat_minor": 0
}