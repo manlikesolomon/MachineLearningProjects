{
  "nbformat": 4,
  "nbformat_minor": 0,
  "metadata": {
    "colab": {
      "provenance": []
    },
    "kernelspec": {
      "name": "python3",
      "display_name": "Python 3"
    },
    "language_info": {
      "name": "python"
    }
  },
  "cells": [
    {
      "cell_type": "markdown",
      "source": [
        "Building a Binary Classification Model with Tensorflow"
      ],
      "metadata": {
        "id": "KFz-Z0KOWHWX"
      }
    },
    {
      "cell_type": "code",
      "source": [
        "#importing our libraries\n",
        "import pandas as pd\n",
        "import numpy as np\n",
        "import tensorflow as tf\n",
        "from tensorflow import keras\n",
        "from tensorflow.python.feature_column import feature_column\n",
        "import matplotlib.pyplot as plt"
      ],
      "metadata": {
        "id": "2kpCn53JWQdG"
      },
      "execution_count": 1,
      "outputs": []
    },
    {
      "cell_type": "code",
      "source": [
        "# load our datasets\n",
        "train_df = pd.read_csv(\"https://download.mlcc.google.com/mledu-datasets/california_housing_train.csv\")\n",
        "test_df = pd.read_csv(\"https://download.mlcc.google.com/mledu-datasets/california_housing_test.csv\")\n",
        "#shuffle our training data\n",
        "train_df = train_df.sample(frac=1)"
      ],
      "metadata": {
        "id": "z7ix0QTLXHHY"
      },
      "execution_count": 2,
      "outputs": []
    },
    {
      "cell_type": "code",
      "source": [
        "# normalizing train data using z-score\n",
        "#calculate the mean for each column\n",
        "train_df_mean = train_df.mean()\n",
        "#calculating std for each column\n",
        "train_df_std = train_df.std()\n",
        "#normalize our data\n",
        "train_df_norm = (train_df - train_df_mean)/train_df_std\n",
        "train_df_norm.head()"
      ],
      "metadata": {
        "colab": {
          "base_uri": "https://localhost:8080/",
          "height": 206
        },
        "id": "6MXGkzy3X9Zg",
        "outputId": "a271ce43-4830-49f6-f27e-3288a31517be"
      },
      "execution_count": 3,
      "outputs": [
        {
          "output_type": "execute_result",
          "data": {
            "text/plain": [
              "       longitude  latitude  housing_median_age  total_rooms  total_bedrooms  \\\n",
              "8127    0.564596 -0.680858            0.668204    -0.303523       -0.494451   \n",
              "5778    0.684286 -0.821219            0.509310    -0.401232       -0.245340   \n",
              "12806  -1.121050  1.111089            0.668204     0.036852        0.093925   \n",
              "4916    0.729171 -0.811862            0.429862    -0.184254       -0.245340   \n",
              "2930    0.898733 -0.891400           -1.079639    -0.781058       -0.648662   \n",
              "\n",
              "       population  households  median_income  median_house_value  \n",
              "8127    -0.553707   -0.419280       1.071150            1.117390  \n",
              "5778    -0.229623   -0.299651      -0.528562           -0.250043  \n",
              "12806   -0.025765    0.100848      -0.512840           -0.948416  \n",
              "4916     0.046544   -0.151414       0.319587           -0.187103  \n",
              "2930    -0.926577   -0.658539       0.251563           -0.507838  "
            ],
            "text/html": [
              "\n",
              "  <div id=\"df-7a8f8808-ae08-4a9b-bff5-7e23d2fc01a6\">\n",
              "    <div class=\"colab-df-container\">\n",
              "      <div>\n",
              "<style scoped>\n",
              "    .dataframe tbody tr th:only-of-type {\n",
              "        vertical-align: middle;\n",
              "    }\n",
              "\n",
              "    .dataframe tbody tr th {\n",
              "        vertical-align: top;\n",
              "    }\n",
              "\n",
              "    .dataframe thead th {\n",
              "        text-align: right;\n",
              "    }\n",
              "</style>\n",
              "<table border=\"1\" class=\"dataframe\">\n",
              "  <thead>\n",
              "    <tr style=\"text-align: right;\">\n",
              "      <th></th>\n",
              "      <th>longitude</th>\n",
              "      <th>latitude</th>\n",
              "      <th>housing_median_age</th>\n",
              "      <th>total_rooms</th>\n",
              "      <th>total_bedrooms</th>\n",
              "      <th>population</th>\n",
              "      <th>households</th>\n",
              "      <th>median_income</th>\n",
              "      <th>median_house_value</th>\n",
              "    </tr>\n",
              "  </thead>\n",
              "  <tbody>\n",
              "    <tr>\n",
              "      <th>8127</th>\n",
              "      <td>0.564596</td>\n",
              "      <td>-0.680858</td>\n",
              "      <td>0.668204</td>\n",
              "      <td>-0.303523</td>\n",
              "      <td>-0.494451</td>\n",
              "      <td>-0.553707</td>\n",
              "      <td>-0.419280</td>\n",
              "      <td>1.071150</td>\n",
              "      <td>1.117390</td>\n",
              "    </tr>\n",
              "    <tr>\n",
              "      <th>5778</th>\n",
              "      <td>0.684286</td>\n",
              "      <td>-0.821219</td>\n",
              "      <td>0.509310</td>\n",
              "      <td>-0.401232</td>\n",
              "      <td>-0.245340</td>\n",
              "      <td>-0.229623</td>\n",
              "      <td>-0.299651</td>\n",
              "      <td>-0.528562</td>\n",
              "      <td>-0.250043</td>\n",
              "    </tr>\n",
              "    <tr>\n",
              "      <th>12806</th>\n",
              "      <td>-1.121050</td>\n",
              "      <td>1.111089</td>\n",
              "      <td>0.668204</td>\n",
              "      <td>0.036852</td>\n",
              "      <td>0.093925</td>\n",
              "      <td>-0.025765</td>\n",
              "      <td>0.100848</td>\n",
              "      <td>-0.512840</td>\n",
              "      <td>-0.948416</td>\n",
              "    </tr>\n",
              "    <tr>\n",
              "      <th>4916</th>\n",
              "      <td>0.729171</td>\n",
              "      <td>-0.811862</td>\n",
              "      <td>0.429862</td>\n",
              "      <td>-0.184254</td>\n",
              "      <td>-0.245340</td>\n",
              "      <td>0.046544</td>\n",
              "      <td>-0.151414</td>\n",
              "      <td>0.319587</td>\n",
              "      <td>-0.187103</td>\n",
              "    </tr>\n",
              "    <tr>\n",
              "      <th>2930</th>\n",
              "      <td>0.898733</td>\n",
              "      <td>-0.891400</td>\n",
              "      <td>-1.079639</td>\n",
              "      <td>-0.781058</td>\n",
              "      <td>-0.648662</td>\n",
              "      <td>-0.926577</td>\n",
              "      <td>-0.658539</td>\n",
              "      <td>0.251563</td>\n",
              "      <td>-0.507838</td>\n",
              "    </tr>\n",
              "  </tbody>\n",
              "</table>\n",
              "</div>\n",
              "      <button class=\"colab-df-convert\" onclick=\"convertToInteractive('df-7a8f8808-ae08-4a9b-bff5-7e23d2fc01a6')\"\n",
              "              title=\"Convert this dataframe to an interactive table.\"\n",
              "              style=\"display:none;\">\n",
              "        \n",
              "  <svg xmlns=\"http://www.w3.org/2000/svg\" height=\"24px\"viewBox=\"0 0 24 24\"\n",
              "       width=\"24px\">\n",
              "    <path d=\"M0 0h24v24H0V0z\" fill=\"none\"/>\n",
              "    <path d=\"M18.56 5.44l.94 2.06.94-2.06 2.06-.94-2.06-.94-.94-2.06-.94 2.06-2.06.94zm-11 1L8.5 8.5l.94-2.06 2.06-.94-2.06-.94L8.5 2.5l-.94 2.06-2.06.94zm10 10l.94 2.06.94-2.06 2.06-.94-2.06-.94-.94-2.06-.94 2.06-2.06.94z\"/><path d=\"M17.41 7.96l-1.37-1.37c-.4-.4-.92-.59-1.43-.59-.52 0-1.04.2-1.43.59L10.3 9.45l-7.72 7.72c-.78.78-.78 2.05 0 2.83L4 21.41c.39.39.9.59 1.41.59.51 0 1.02-.2 1.41-.59l7.78-7.78 2.81-2.81c.8-.78.8-2.07 0-2.86zM5.41 20L4 18.59l7.72-7.72 1.47 1.35L5.41 20z\"/>\n",
              "  </svg>\n",
              "      </button>\n",
              "      \n",
              "  <style>\n",
              "    .colab-df-container {\n",
              "      display:flex;\n",
              "      flex-wrap:wrap;\n",
              "      gap: 12px;\n",
              "    }\n",
              "\n",
              "    .colab-df-convert {\n",
              "      background-color: #E8F0FE;\n",
              "      border: none;\n",
              "      border-radius: 50%;\n",
              "      cursor: pointer;\n",
              "      display: none;\n",
              "      fill: #1967D2;\n",
              "      height: 32px;\n",
              "      padding: 0 0 0 0;\n",
              "      width: 32px;\n",
              "    }\n",
              "\n",
              "    .colab-df-convert:hover {\n",
              "      background-color: #E2EBFA;\n",
              "      box-shadow: 0px 1px 2px rgba(60, 64, 67, 0.3), 0px 1px 3px 1px rgba(60, 64, 67, 0.15);\n",
              "      fill: #174EA6;\n",
              "    }\n",
              "\n",
              "    [theme=dark] .colab-df-convert {\n",
              "      background-color: #3B4455;\n",
              "      fill: #D2E3FC;\n",
              "    }\n",
              "\n",
              "    [theme=dark] .colab-df-convert:hover {\n",
              "      background-color: #434B5C;\n",
              "      box-shadow: 0px 1px 3px 1px rgba(0, 0, 0, 0.15);\n",
              "      filter: drop-shadow(0px 1px 2px rgba(0, 0, 0, 0.3));\n",
              "      fill: #FFFFFF;\n",
              "    }\n",
              "  </style>\n",
              "\n",
              "      <script>\n",
              "        const buttonEl =\n",
              "          document.querySelector('#df-7a8f8808-ae08-4a9b-bff5-7e23d2fc01a6 button.colab-df-convert');\n",
              "        buttonEl.style.display =\n",
              "          google.colab.kernel.accessAllowed ? 'block' : 'none';\n",
              "\n",
              "        async function convertToInteractive(key) {\n",
              "          const element = document.querySelector('#df-7a8f8808-ae08-4a9b-bff5-7e23d2fc01a6');\n",
              "          const dataTable =\n",
              "            await google.colab.kernel.invokeFunction('convertToInteractive',\n",
              "                                                     [key], {});\n",
              "          if (!dataTable) return;\n",
              "\n",
              "          const docLinkHtml = 'Like what you see? Visit the ' +\n",
              "            '<a target=\"_blank\" href=https://colab.research.google.com/notebooks/data_table.ipynb>data table notebook</a>'\n",
              "            + ' to learn more about interactive tables.';\n",
              "          element.innerHTML = '';\n",
              "          dataTable['output_type'] = 'display_data';\n",
              "          await google.colab.output.renderOutput(dataTable, element);\n",
              "          const docLink = document.createElement('div');\n",
              "          docLink.innerHTML = docLinkHtml;\n",
              "          element.appendChild(docLink);\n",
              "        }\n",
              "      </script>\n",
              "    </div>\n",
              "  </div>\n",
              "  "
            ]
          },
          "metadata": {},
          "execution_count": 3
        }
      ]
    },
    {
      "cell_type": "code",
      "source": [
        "# normalizing test data using z-score\n",
        "test_df_mean = test_df.mean()\n",
        "test_df_std = test_df.std()\n",
        "test_df_norm = (test_df - test_df_mean)/test_df_std\n",
        "test_df_norm.head()"
      ],
      "metadata": {
        "colab": {
          "base_uri": "https://localhost:8080/",
          "height": 206
        },
        "id": "mS3EqNHt46tL",
        "outputId": "c5fde815-0513-4259-884d-811a8661cfdc"
      },
      "execution_count": 4,
      "outputs": [
        {
          "output_type": "execute_result",
          "data": {
            "text/plain": [
              "   longitude  latitude  housing_median_age  total_rooms  total_bedrooms  \\\n",
              "0  -1.233523  0.814497           -0.146975     0.596319        0.315284   \n",
              "1   0.646236 -0.645823            1.127377    -0.505466       -0.529167   \n",
              "2   0.891858 -0.871210           -0.146975     0.459002       -0.055216   \n",
              "3   0.616160 -0.852428           -0.067328    -1.174887       -1.238892   \n",
              "4  -0.040503  0.326159           -0.784152    -0.630257       -0.687953   \n",
              "\n",
              "   population  households  median_income  median_house_value  \n",
              "0    0.130224    0.317681       1.510494            1.227494  \n",
              "1   -0.576200   -0.582646      -0.112305           -0.259427  \n",
              "2    0.078795    0.013924       1.070971            0.571551  \n",
              "3   -1.313675   -1.310570       1.255656            1.097543  \n",
              "4   -0.536415   -0.692108      -0.469003           -1.097477  "
            ],
            "text/html": [
              "\n",
              "  <div id=\"df-de6e1476-8665-4276-983b-c253e2377764\">\n",
              "    <div class=\"colab-df-container\">\n",
              "      <div>\n",
              "<style scoped>\n",
              "    .dataframe tbody tr th:only-of-type {\n",
              "        vertical-align: middle;\n",
              "    }\n",
              "\n",
              "    .dataframe tbody tr th {\n",
              "        vertical-align: top;\n",
              "    }\n",
              "\n",
              "    .dataframe thead th {\n",
              "        text-align: right;\n",
              "    }\n",
              "</style>\n",
              "<table border=\"1\" class=\"dataframe\">\n",
              "  <thead>\n",
              "    <tr style=\"text-align: right;\">\n",
              "      <th></th>\n",
              "      <th>longitude</th>\n",
              "      <th>latitude</th>\n",
              "      <th>housing_median_age</th>\n",
              "      <th>total_rooms</th>\n",
              "      <th>total_bedrooms</th>\n",
              "      <th>population</th>\n",
              "      <th>households</th>\n",
              "      <th>median_income</th>\n",
              "      <th>median_house_value</th>\n",
              "    </tr>\n",
              "  </thead>\n",
              "  <tbody>\n",
              "    <tr>\n",
              "      <th>0</th>\n",
              "      <td>-1.233523</td>\n",
              "      <td>0.814497</td>\n",
              "      <td>-0.146975</td>\n",
              "      <td>0.596319</td>\n",
              "      <td>0.315284</td>\n",
              "      <td>0.130224</td>\n",
              "      <td>0.317681</td>\n",
              "      <td>1.510494</td>\n",
              "      <td>1.227494</td>\n",
              "    </tr>\n",
              "    <tr>\n",
              "      <th>1</th>\n",
              "      <td>0.646236</td>\n",
              "      <td>-0.645823</td>\n",
              "      <td>1.127377</td>\n",
              "      <td>-0.505466</td>\n",
              "      <td>-0.529167</td>\n",
              "      <td>-0.576200</td>\n",
              "      <td>-0.582646</td>\n",
              "      <td>-0.112305</td>\n",
              "      <td>-0.259427</td>\n",
              "    </tr>\n",
              "    <tr>\n",
              "      <th>2</th>\n",
              "      <td>0.891858</td>\n",
              "      <td>-0.871210</td>\n",
              "      <td>-0.146975</td>\n",
              "      <td>0.459002</td>\n",
              "      <td>-0.055216</td>\n",
              "      <td>0.078795</td>\n",
              "      <td>0.013924</td>\n",
              "      <td>1.070971</td>\n",
              "      <td>0.571551</td>\n",
              "    </tr>\n",
              "    <tr>\n",
              "      <th>3</th>\n",
              "      <td>0.616160</td>\n",
              "      <td>-0.852428</td>\n",
              "      <td>-0.067328</td>\n",
              "      <td>-1.174887</td>\n",
              "      <td>-1.238892</td>\n",
              "      <td>-1.313675</td>\n",
              "      <td>-1.310570</td>\n",
              "      <td>1.255656</td>\n",
              "      <td>1.097543</td>\n",
              "    </tr>\n",
              "    <tr>\n",
              "      <th>4</th>\n",
              "      <td>-0.040503</td>\n",
              "      <td>0.326159</td>\n",
              "      <td>-0.784152</td>\n",
              "      <td>-0.630257</td>\n",
              "      <td>-0.687953</td>\n",
              "      <td>-0.536415</td>\n",
              "      <td>-0.692108</td>\n",
              "      <td>-0.469003</td>\n",
              "      <td>-1.097477</td>\n",
              "    </tr>\n",
              "  </tbody>\n",
              "</table>\n",
              "</div>\n",
              "      <button class=\"colab-df-convert\" onclick=\"convertToInteractive('df-de6e1476-8665-4276-983b-c253e2377764')\"\n",
              "              title=\"Convert this dataframe to an interactive table.\"\n",
              "              style=\"display:none;\">\n",
              "        \n",
              "  <svg xmlns=\"http://www.w3.org/2000/svg\" height=\"24px\"viewBox=\"0 0 24 24\"\n",
              "       width=\"24px\">\n",
              "    <path d=\"M0 0h24v24H0V0z\" fill=\"none\"/>\n",
              "    <path d=\"M18.56 5.44l.94 2.06.94-2.06 2.06-.94-2.06-.94-.94-2.06-.94 2.06-2.06.94zm-11 1L8.5 8.5l.94-2.06 2.06-.94-2.06-.94L8.5 2.5l-.94 2.06-2.06.94zm10 10l.94 2.06.94-2.06 2.06-.94-2.06-.94-.94-2.06-.94 2.06-2.06.94z\"/><path d=\"M17.41 7.96l-1.37-1.37c-.4-.4-.92-.59-1.43-.59-.52 0-1.04.2-1.43.59L10.3 9.45l-7.72 7.72c-.78.78-.78 2.05 0 2.83L4 21.41c.39.39.9.59 1.41.59.51 0 1.02-.2 1.41-.59l7.78-7.78 2.81-2.81c.8-.78.8-2.07 0-2.86zM5.41 20L4 18.59l7.72-7.72 1.47 1.35L5.41 20z\"/>\n",
              "  </svg>\n",
              "      </button>\n",
              "      \n",
              "  <style>\n",
              "    .colab-df-container {\n",
              "      display:flex;\n",
              "      flex-wrap:wrap;\n",
              "      gap: 12px;\n",
              "    }\n",
              "\n",
              "    .colab-df-convert {\n",
              "      background-color: #E8F0FE;\n",
              "      border: none;\n",
              "      border-radius: 50%;\n",
              "      cursor: pointer;\n",
              "      display: none;\n",
              "      fill: #1967D2;\n",
              "      height: 32px;\n",
              "      padding: 0 0 0 0;\n",
              "      width: 32px;\n",
              "    }\n",
              "\n",
              "    .colab-df-convert:hover {\n",
              "      background-color: #E2EBFA;\n",
              "      box-shadow: 0px 1px 2px rgba(60, 64, 67, 0.3), 0px 1px 3px 1px rgba(60, 64, 67, 0.15);\n",
              "      fill: #174EA6;\n",
              "    }\n",
              "\n",
              "    [theme=dark] .colab-df-convert {\n",
              "      background-color: #3B4455;\n",
              "      fill: #D2E3FC;\n",
              "    }\n",
              "\n",
              "    [theme=dark] .colab-df-convert:hover {\n",
              "      background-color: #434B5C;\n",
              "      box-shadow: 0px 1px 3px 1px rgba(0, 0, 0, 0.15);\n",
              "      filter: drop-shadow(0px 1px 2px rgba(0, 0, 0, 0.3));\n",
              "      fill: #FFFFFF;\n",
              "    }\n",
              "  </style>\n",
              "\n",
              "      <script>\n",
              "        const buttonEl =\n",
              "          document.querySelector('#df-de6e1476-8665-4276-983b-c253e2377764 button.colab-df-convert');\n",
              "        buttonEl.style.display =\n",
              "          google.colab.kernel.accessAllowed ? 'block' : 'none';\n",
              "\n",
              "        async function convertToInteractive(key) {\n",
              "          const element = document.querySelector('#df-de6e1476-8665-4276-983b-c253e2377764');\n",
              "          const dataTable =\n",
              "            await google.colab.kernel.invokeFunction('convertToInteractive',\n",
              "                                                     [key], {});\n",
              "          if (!dataTable) return;\n",
              "\n",
              "          const docLinkHtml = 'Like what you see? Visit the ' +\n",
              "            '<a target=\"_blank\" href=https://colab.research.google.com/notebooks/data_table.ipynb>data table notebook</a>'\n",
              "            + ' to learn more about interactive tables.';\n",
              "          element.innerHTML = '';\n",
              "          dataTable['output_type'] = 'display_data';\n",
              "          await google.colab.output.renderOutput(dataTable, element);\n",
              "          const docLink = document.createElement('div');\n",
              "          docLink.innerHTML = docLinkHtml;\n",
              "          element.appendChild(docLink);\n",
              "        }\n",
              "      </script>\n",
              "    </div>\n",
              "  </div>\n",
              "  "
            ]
          },
          "metadata": {},
          "execution_count": 4
        }
      ]
    },
    {
      "cell_type": "markdown",
      "source": [
        "Creating a Binary Label for our Dataset \n",
        "\n",
        "We will be setting a threshold of 265000 as high price for houses, that's 1.0 for our normalized dataset"
      ],
      "metadata": {
        "id": "1wVsqgQg8nGZ"
      }
    },
    {
      "cell_type": "code",
      "source": [
        "threshold = 1\n",
        "train_df_norm['median_house_value_is_high'] = np.where(train_df_norm.median_house_value > 1, 1, 0)\n",
        "test_df_norm['median_house_value_is_high'] = np.where(test_df_norm.median_house_value > 1, 1, 0)\n",
        "display(train_df_norm.head(2), test_df_norm.head(2))"
      ],
      "metadata": {
        "colab": {
          "base_uri": "https://localhost:8080/",
          "height": 271
        },
        "id": "PI2JHX1U9NPv",
        "outputId": "23d5c714-ac09-4c22-bcd6-da0e5843a2d6"
      },
      "execution_count": 5,
      "outputs": [
        {
          "output_type": "display_data",
          "data": {
            "text/plain": [
              "      longitude  latitude  housing_median_age  total_rooms  total_bedrooms  \\\n",
              "8127   0.564596 -0.680858            0.668204    -0.303523       -0.494451   \n",
              "5778   0.684286 -0.821219            0.509310    -0.401232       -0.245340   \n",
              "\n",
              "      population  households  median_income  median_house_value  \\\n",
              "8127   -0.553707   -0.419280       1.071150            1.117390   \n",
              "5778   -0.229623   -0.299651      -0.528562           -0.250043   \n",
              "\n",
              "      median_house_value_is_high  \n",
              "8127                           1  \n",
              "5778                           0  "
            ],
            "text/html": [
              "\n",
              "  <div id=\"df-731ec56f-6c6d-4ed5-954d-845827cb66f1\">\n",
              "    <div class=\"colab-df-container\">\n",
              "      <div>\n",
              "<style scoped>\n",
              "    .dataframe tbody tr th:only-of-type {\n",
              "        vertical-align: middle;\n",
              "    }\n",
              "\n",
              "    .dataframe tbody tr th {\n",
              "        vertical-align: top;\n",
              "    }\n",
              "\n",
              "    .dataframe thead th {\n",
              "        text-align: right;\n",
              "    }\n",
              "</style>\n",
              "<table border=\"1\" class=\"dataframe\">\n",
              "  <thead>\n",
              "    <tr style=\"text-align: right;\">\n",
              "      <th></th>\n",
              "      <th>longitude</th>\n",
              "      <th>latitude</th>\n",
              "      <th>housing_median_age</th>\n",
              "      <th>total_rooms</th>\n",
              "      <th>total_bedrooms</th>\n",
              "      <th>population</th>\n",
              "      <th>households</th>\n",
              "      <th>median_income</th>\n",
              "      <th>median_house_value</th>\n",
              "      <th>median_house_value_is_high</th>\n",
              "    </tr>\n",
              "  </thead>\n",
              "  <tbody>\n",
              "    <tr>\n",
              "      <th>8127</th>\n",
              "      <td>0.564596</td>\n",
              "      <td>-0.680858</td>\n",
              "      <td>0.668204</td>\n",
              "      <td>-0.303523</td>\n",
              "      <td>-0.494451</td>\n",
              "      <td>-0.553707</td>\n",
              "      <td>-0.419280</td>\n",
              "      <td>1.071150</td>\n",
              "      <td>1.117390</td>\n",
              "      <td>1</td>\n",
              "    </tr>\n",
              "    <tr>\n",
              "      <th>5778</th>\n",
              "      <td>0.684286</td>\n",
              "      <td>-0.821219</td>\n",
              "      <td>0.509310</td>\n",
              "      <td>-0.401232</td>\n",
              "      <td>-0.245340</td>\n",
              "      <td>-0.229623</td>\n",
              "      <td>-0.299651</td>\n",
              "      <td>-0.528562</td>\n",
              "      <td>-0.250043</td>\n",
              "      <td>0</td>\n",
              "    </tr>\n",
              "  </tbody>\n",
              "</table>\n",
              "</div>\n",
              "      <button class=\"colab-df-convert\" onclick=\"convertToInteractive('df-731ec56f-6c6d-4ed5-954d-845827cb66f1')\"\n",
              "              title=\"Convert this dataframe to an interactive table.\"\n",
              "              style=\"display:none;\">\n",
              "        \n",
              "  <svg xmlns=\"http://www.w3.org/2000/svg\" height=\"24px\"viewBox=\"0 0 24 24\"\n",
              "       width=\"24px\">\n",
              "    <path d=\"M0 0h24v24H0V0z\" fill=\"none\"/>\n",
              "    <path d=\"M18.56 5.44l.94 2.06.94-2.06 2.06-.94-2.06-.94-.94-2.06-.94 2.06-2.06.94zm-11 1L8.5 8.5l.94-2.06 2.06-.94-2.06-.94L8.5 2.5l-.94 2.06-2.06.94zm10 10l.94 2.06.94-2.06 2.06-.94-2.06-.94-.94-2.06-.94 2.06-2.06.94z\"/><path d=\"M17.41 7.96l-1.37-1.37c-.4-.4-.92-.59-1.43-.59-.52 0-1.04.2-1.43.59L10.3 9.45l-7.72 7.72c-.78.78-.78 2.05 0 2.83L4 21.41c.39.39.9.59 1.41.59.51 0 1.02-.2 1.41-.59l7.78-7.78 2.81-2.81c.8-.78.8-2.07 0-2.86zM5.41 20L4 18.59l7.72-7.72 1.47 1.35L5.41 20z\"/>\n",
              "  </svg>\n",
              "      </button>\n",
              "      \n",
              "  <style>\n",
              "    .colab-df-container {\n",
              "      display:flex;\n",
              "      flex-wrap:wrap;\n",
              "      gap: 12px;\n",
              "    }\n",
              "\n",
              "    .colab-df-convert {\n",
              "      background-color: #E8F0FE;\n",
              "      border: none;\n",
              "      border-radius: 50%;\n",
              "      cursor: pointer;\n",
              "      display: none;\n",
              "      fill: #1967D2;\n",
              "      height: 32px;\n",
              "      padding: 0 0 0 0;\n",
              "      width: 32px;\n",
              "    }\n",
              "\n",
              "    .colab-df-convert:hover {\n",
              "      background-color: #E2EBFA;\n",
              "      box-shadow: 0px 1px 2px rgba(60, 64, 67, 0.3), 0px 1px 3px 1px rgba(60, 64, 67, 0.15);\n",
              "      fill: #174EA6;\n",
              "    }\n",
              "\n",
              "    [theme=dark] .colab-df-convert {\n",
              "      background-color: #3B4455;\n",
              "      fill: #D2E3FC;\n",
              "    }\n",
              "\n",
              "    [theme=dark] .colab-df-convert:hover {\n",
              "      background-color: #434B5C;\n",
              "      box-shadow: 0px 1px 3px 1px rgba(0, 0, 0, 0.15);\n",
              "      filter: drop-shadow(0px 1px 2px rgba(0, 0, 0, 0.3));\n",
              "      fill: #FFFFFF;\n",
              "    }\n",
              "  </style>\n",
              "\n",
              "      <script>\n",
              "        const buttonEl =\n",
              "          document.querySelector('#df-731ec56f-6c6d-4ed5-954d-845827cb66f1 button.colab-df-convert');\n",
              "        buttonEl.style.display =\n",
              "          google.colab.kernel.accessAllowed ? 'block' : 'none';\n",
              "\n",
              "        async function convertToInteractive(key) {\n",
              "          const element = document.querySelector('#df-731ec56f-6c6d-4ed5-954d-845827cb66f1');\n",
              "          const dataTable =\n",
              "            await google.colab.kernel.invokeFunction('convertToInteractive',\n",
              "                                                     [key], {});\n",
              "          if (!dataTable) return;\n",
              "\n",
              "          const docLinkHtml = 'Like what you see? Visit the ' +\n",
              "            '<a target=\"_blank\" href=https://colab.research.google.com/notebooks/data_table.ipynb>data table notebook</a>'\n",
              "            + ' to learn more about interactive tables.';\n",
              "          element.innerHTML = '';\n",
              "          dataTable['output_type'] = 'display_data';\n",
              "          await google.colab.output.renderOutput(dataTable, element);\n",
              "          const docLink = document.createElement('div');\n",
              "          docLink.innerHTML = docLinkHtml;\n",
              "          element.appendChild(docLink);\n",
              "        }\n",
              "      </script>\n",
              "    </div>\n",
              "  </div>\n",
              "  "
            ]
          },
          "metadata": {}
        },
        {
          "output_type": "display_data",
          "data": {
            "text/plain": [
              "   longitude  latitude  housing_median_age  total_rooms  total_bedrooms  \\\n",
              "0  -1.233523  0.814497           -0.146975     0.596319        0.315284   \n",
              "1   0.646236 -0.645823            1.127377    -0.505466       -0.529167   \n",
              "\n",
              "   population  households  median_income  median_house_value  \\\n",
              "0    0.130224    0.317681       1.510494            1.227494   \n",
              "1   -0.576200   -0.582646      -0.112305           -0.259427   \n",
              "\n",
              "   median_house_value_is_high  \n",
              "0                           1  \n",
              "1                           0  "
            ],
            "text/html": [
              "\n",
              "  <div id=\"df-c16ffcb1-450d-478c-99c6-df9dec84ff18\">\n",
              "    <div class=\"colab-df-container\">\n",
              "      <div>\n",
              "<style scoped>\n",
              "    .dataframe tbody tr th:only-of-type {\n",
              "        vertical-align: middle;\n",
              "    }\n",
              "\n",
              "    .dataframe tbody tr th {\n",
              "        vertical-align: top;\n",
              "    }\n",
              "\n",
              "    .dataframe thead th {\n",
              "        text-align: right;\n",
              "    }\n",
              "</style>\n",
              "<table border=\"1\" class=\"dataframe\">\n",
              "  <thead>\n",
              "    <tr style=\"text-align: right;\">\n",
              "      <th></th>\n",
              "      <th>longitude</th>\n",
              "      <th>latitude</th>\n",
              "      <th>housing_median_age</th>\n",
              "      <th>total_rooms</th>\n",
              "      <th>total_bedrooms</th>\n",
              "      <th>population</th>\n",
              "      <th>households</th>\n",
              "      <th>median_income</th>\n",
              "      <th>median_house_value</th>\n",
              "      <th>median_house_value_is_high</th>\n",
              "    </tr>\n",
              "  </thead>\n",
              "  <tbody>\n",
              "    <tr>\n",
              "      <th>0</th>\n",
              "      <td>-1.233523</td>\n",
              "      <td>0.814497</td>\n",
              "      <td>-0.146975</td>\n",
              "      <td>0.596319</td>\n",
              "      <td>0.315284</td>\n",
              "      <td>0.130224</td>\n",
              "      <td>0.317681</td>\n",
              "      <td>1.510494</td>\n",
              "      <td>1.227494</td>\n",
              "      <td>1</td>\n",
              "    </tr>\n",
              "    <tr>\n",
              "      <th>1</th>\n",
              "      <td>0.646236</td>\n",
              "      <td>-0.645823</td>\n",
              "      <td>1.127377</td>\n",
              "      <td>-0.505466</td>\n",
              "      <td>-0.529167</td>\n",
              "      <td>-0.576200</td>\n",
              "      <td>-0.582646</td>\n",
              "      <td>-0.112305</td>\n",
              "      <td>-0.259427</td>\n",
              "      <td>0</td>\n",
              "    </tr>\n",
              "  </tbody>\n",
              "</table>\n",
              "</div>\n",
              "      <button class=\"colab-df-convert\" onclick=\"convertToInteractive('df-c16ffcb1-450d-478c-99c6-df9dec84ff18')\"\n",
              "              title=\"Convert this dataframe to an interactive table.\"\n",
              "              style=\"display:none;\">\n",
              "        \n",
              "  <svg xmlns=\"http://www.w3.org/2000/svg\" height=\"24px\"viewBox=\"0 0 24 24\"\n",
              "       width=\"24px\">\n",
              "    <path d=\"M0 0h24v24H0V0z\" fill=\"none\"/>\n",
              "    <path d=\"M18.56 5.44l.94 2.06.94-2.06 2.06-.94-2.06-.94-.94-2.06-.94 2.06-2.06.94zm-11 1L8.5 8.5l.94-2.06 2.06-.94-2.06-.94L8.5 2.5l-.94 2.06-2.06.94zm10 10l.94 2.06.94-2.06 2.06-.94-2.06-.94-.94-2.06-.94 2.06-2.06.94z\"/><path d=\"M17.41 7.96l-1.37-1.37c-.4-.4-.92-.59-1.43-.59-.52 0-1.04.2-1.43.59L10.3 9.45l-7.72 7.72c-.78.78-.78 2.05 0 2.83L4 21.41c.39.39.9.59 1.41.59.51 0 1.02-.2 1.41-.59l7.78-7.78 2.81-2.81c.8-.78.8-2.07 0-2.86zM5.41 20L4 18.59l7.72-7.72 1.47 1.35L5.41 20z\"/>\n",
              "  </svg>\n",
              "      </button>\n",
              "      \n",
              "  <style>\n",
              "    .colab-df-container {\n",
              "      display:flex;\n",
              "      flex-wrap:wrap;\n",
              "      gap: 12px;\n",
              "    }\n",
              "\n",
              "    .colab-df-convert {\n",
              "      background-color: #E8F0FE;\n",
              "      border: none;\n",
              "      border-radius: 50%;\n",
              "      cursor: pointer;\n",
              "      display: none;\n",
              "      fill: #1967D2;\n",
              "      height: 32px;\n",
              "      padding: 0 0 0 0;\n",
              "      width: 32px;\n",
              "    }\n",
              "\n",
              "    .colab-df-convert:hover {\n",
              "      background-color: #E2EBFA;\n",
              "      box-shadow: 0px 1px 2px rgba(60, 64, 67, 0.3), 0px 1px 3px 1px rgba(60, 64, 67, 0.15);\n",
              "      fill: #174EA6;\n",
              "    }\n",
              "\n",
              "    [theme=dark] .colab-df-convert {\n",
              "      background-color: #3B4455;\n",
              "      fill: #D2E3FC;\n",
              "    }\n",
              "\n",
              "    [theme=dark] .colab-df-convert:hover {\n",
              "      background-color: #434B5C;\n",
              "      box-shadow: 0px 1px 3px 1px rgba(0, 0, 0, 0.15);\n",
              "      filter: drop-shadow(0px 1px 2px rgba(0, 0, 0, 0.3));\n",
              "      fill: #FFFFFF;\n",
              "    }\n",
              "  </style>\n",
              "\n",
              "      <script>\n",
              "        const buttonEl =\n",
              "          document.querySelector('#df-c16ffcb1-450d-478c-99c6-df9dec84ff18 button.colab-df-convert');\n",
              "        buttonEl.style.display =\n",
              "          google.colab.kernel.accessAllowed ? 'block' : 'none';\n",
              "\n",
              "        async function convertToInteractive(key) {\n",
              "          const element = document.querySelector('#df-c16ffcb1-450d-478c-99c6-df9dec84ff18');\n",
              "          const dataTable =\n",
              "            await google.colab.kernel.invokeFunction('convertToInteractive',\n",
              "                                                     [key], {});\n",
              "          if (!dataTable) return;\n",
              "\n",
              "          const docLinkHtml = 'Like what you see? Visit the ' +\n",
              "            '<a target=\"_blank\" href=https://colab.research.google.com/notebooks/data_table.ipynb>data table notebook</a>'\n",
              "            + ' to learn more about interactive tables.';\n",
              "          element.innerHTML = '';\n",
              "          dataTable['output_type'] = 'display_data';\n",
              "          await google.colab.output.renderOutput(dataTable, element);\n",
              "          const docLink = document.createElement('div');\n",
              "          docLink.innerHTML = docLinkHtml;\n",
              "          element.appendChild(docLink);\n",
              "        }\n",
              "      </script>\n",
              "    </div>\n",
              "  </div>\n",
              "  "
            ]
          },
          "metadata": {}
        }
      ]
    },
    {
      "cell_type": "markdown",
      "source": [
        "Represent Features that will be used in training our model in a tensorflow feature column"
      ],
      "metadata": {
        "id": "WsmcfRyOHNMI"
      }
    },
    {
      "cell_type": "code",
      "source": [
        "# create an empty list that will hold our feature columns\n",
        "feature_columns = []\n",
        "# create a numerical feature column to represent median income\n",
        "median_income = tf.feature_column.numeric_column('median_income')\n",
        "feature_columns.append(median_income)\n",
        "# create a numerical feature column to represent total rooms\n",
        "total_rooms = tf.feature_column.numeric_column('total_rooms')\n",
        "feature_columns.append(total_rooms)\n",
        "\n",
        "#convert thr feature_columns list into a layer for our model\n",
        "feature_layer = keras.layers.DenseFeatures(feature_columns)\n",
        "\n",
        "#printing our feature_layer output\n",
        "feature_layer(dict(train_df_norm))"
      ],
      "metadata": {
        "colab": {
          "base_uri": "https://localhost:8080/"
        },
        "id": "z5RacpHAHkHn",
        "outputId": "4f1f6190-208e-4780-e885-e9c82e4d5256"
      },
      "execution_count": 6,
      "outputs": [
        {
          "output_type": "execute_result",
          "data": {
            "text/plain": [
              "<tf.Tensor: shape=(17000, 2), dtype=float32, numpy=\n",
              "array([[ 1.0711501 , -0.30352315],\n",
              "       [-0.52856153, -0.40123194],\n",
              "       [-0.51283956,  0.03685208],\n",
              "       ...,\n",
              "       [-0.6275052 , -0.39022252],\n",
              "       [-0.30022594,  0.6772346 ],\n",
              "       [-0.4211804 ,  0.0818073 ]], dtype=float32)>"
            ]
          },
          "metadata": {},
          "execution_count": 6
        }
      ]
    },
    {
      "cell_type": "code",
      "source": [
        "#initiating our model\n",
        "model = keras.models.Sequential()\n",
        "\n",
        "# adding our layers\n",
        "model.add(feature_layer)\n",
        "model.add(keras.layers.Dense(units=1, input_shape = (1,)))\n",
        "\n",
        "# adding our optimizer and loss function\n",
        "lr = 0.001\n",
        "classification_threshold = 0.35\n",
        "opt = tf.keras.optimizers.RMSprop(lr=lr)\n",
        "loss = tf.keras.losses.BinaryCrossentropy()\n",
        "metrics = [\n",
        "           tf.keras.metrics.BinaryAccuracy(name='accuracy', \n",
        "                                           threshold=classification_threshold)\n",
        "          ]\n",
        "#compile\n",
        "model.compile(optimizer=opt, loss = loss, metrics=metrics)"
      ],
      "metadata": {
        "colab": {
          "base_uri": "https://localhost:8080/"
        },
        "id": "0p1ANwwzLKht",
        "outputId": "5cbff8bb-384b-4fee-827c-b27437a9adea"
      },
      "execution_count": 7,
      "outputs": [
        {
          "output_type": "stream",
          "name": "stderr",
          "text": [
            "/usr/local/lib/python3.8/dist-packages/keras/optimizers/optimizer_v2/rmsprop.py:135: UserWarning: The `lr` argument is deprecated, use `learning_rate` instead.\n",
            "  super(RMSprop, self).__init__(name, **kwargs)\n"
          ]
        }
      ]
    },
    {
      "cell_type": "code",
      "source": [
        "# define our features and label\n",
        "train_label = np.array(train_df_norm.pop('median_house_value_is_high'))\n",
        "train_features = {name: np.array(value) for name, value in train_df_norm.items()}\n",
        "\n",
        "test_label = np.array(test_df_norm.pop('median_house_value_is_high'))\n",
        "test_feature = {name: np.array(value) for name, value in test_df_norm.items()}"
      ],
      "metadata": {
        "id": "wPjNE45XOohi"
      },
      "execution_count": 8,
      "outputs": []
    },
    {
      "cell_type": "code",
      "source": [
        "# train our model\n",
        "batch_size = 100\n",
        "epochs = 20\n",
        "lr = 0.001\n",
        "classification_threshold = 0.35\n",
        "\n",
        "history = model.fit(x=train_features, y=train_label, batch_size=batch_size, epochs=epochs)"
      ],
      "metadata": {
        "colab": {
          "base_uri": "https://localhost:8080/"
        },
        "id": "Qj8Uy2H5QKhO",
        "outputId": "5f40fa8c-e645-41fe-833e-6819ac6a7539"
      },
      "execution_count": 9,
      "outputs": [
        {
          "output_type": "stream",
          "name": "stdout",
          "text": [
            "Epoch 1/20\n"
          ]
        },
        {
          "output_type": "stream",
          "name": "stderr",
          "text": [
            "WARNING:tensorflow:Layers in a Sequential model should only have a single input tensor. Received: inputs={'longitude': <tf.Tensor 'IteratorGetNext:3' shape=(100,) dtype=float32>, 'latitude': <tf.Tensor 'IteratorGetNext:2' shape=(100,) dtype=float32>, 'housing_median_age': <tf.Tensor 'IteratorGetNext:1' shape=(100,) dtype=float32>, 'total_rooms': <tf.Tensor 'IteratorGetNext:8' shape=(100,) dtype=float32>, 'total_bedrooms': <tf.Tensor 'IteratorGetNext:7' shape=(100,) dtype=float32>, 'population': <tf.Tensor 'IteratorGetNext:6' shape=(100,) dtype=float32>, 'households': <tf.Tensor 'IteratorGetNext:0' shape=(100,) dtype=float32>, 'median_income': <tf.Tensor 'IteratorGetNext:5' shape=(100,) dtype=float32>, 'median_house_value': <tf.Tensor 'IteratorGetNext:4' shape=(100,) dtype=float32>}. Consider rewriting this model with the Functional API.\n",
            "WARNING:tensorflow:Layers in a Sequential model should only have a single input tensor. Received: inputs={'longitude': <tf.Tensor 'IteratorGetNext:3' shape=(100,) dtype=float32>, 'latitude': <tf.Tensor 'IteratorGetNext:2' shape=(100,) dtype=float32>, 'housing_median_age': <tf.Tensor 'IteratorGetNext:1' shape=(100,) dtype=float32>, 'total_rooms': <tf.Tensor 'IteratorGetNext:8' shape=(100,) dtype=float32>, 'total_bedrooms': <tf.Tensor 'IteratorGetNext:7' shape=(100,) dtype=float32>, 'population': <tf.Tensor 'IteratorGetNext:6' shape=(100,) dtype=float32>, 'households': <tf.Tensor 'IteratorGetNext:0' shape=(100,) dtype=float32>, 'median_income': <tf.Tensor 'IteratorGetNext:5' shape=(100,) dtype=float32>, 'median_house_value': <tf.Tensor 'IteratorGetNext:4' shape=(100,) dtype=float32>}. Consider rewriting this model with the Functional API.\n"
          ]
        },
        {
          "output_type": "stream",
          "name": "stdout",
          "text": [
            "170/170 [==============================] - 1s 2ms/step - loss: 2.4726 - accuracy: 0.7057\n",
            "Epoch 2/20\n",
            "170/170 [==============================] - 0s 2ms/step - loss: 2.2065 - accuracy: 0.7298\n",
            "Epoch 3/20\n",
            "170/170 [==============================] - 1s 3ms/step - loss: 1.9644 - accuracy: 0.7537\n",
            "Epoch 4/20\n",
            "170/170 [==============================] - 0s 2ms/step - loss: 1.7385 - accuracy: 0.7753\n",
            "Epoch 5/20\n",
            "170/170 [==============================] - 0s 2ms/step - loss: 1.5448 - accuracy: 0.7967\n",
            "Epoch 6/20\n",
            "170/170 [==============================] - 0s 2ms/step - loss: 1.4273 - accuracy: 0.8144\n",
            "Epoch 7/20\n",
            "170/170 [==============================] - 1s 5ms/step - loss: 1.3905 - accuracy: 0.8197\n",
            "Epoch 8/20\n",
            "170/170 [==============================] - 0s 3ms/step - loss: 1.3568 - accuracy: 0.8285\n",
            "Epoch 9/20\n",
            "170/170 [==============================] - 1s 5ms/step - loss: 1.3148 - accuracy: 0.8384\n",
            "Epoch 10/20\n",
            "170/170 [==============================] - 0s 2ms/step - loss: 1.2674 - accuracy: 0.8455\n",
            "Epoch 11/20\n",
            "170/170 [==============================] - 1s 5ms/step - loss: 1.2466 - accuracy: 0.8509\n",
            "Epoch 12/20\n",
            "170/170 [==============================] - 0s 2ms/step - loss: 1.2265 - accuracy: 0.8549\n",
            "Epoch 13/20\n",
            "170/170 [==============================] - 0s 2ms/step - loss: 1.2093 - accuracy: 0.8575\n",
            "Epoch 14/20\n",
            "170/170 [==============================] - 0s 2ms/step - loss: 1.1965 - accuracy: 0.8609\n",
            "Epoch 15/20\n",
            "170/170 [==============================] - 0s 2ms/step - loss: 1.1763 - accuracy: 0.8631\n",
            "Epoch 16/20\n",
            "170/170 [==============================] - 0s 2ms/step - loss: 1.1591 - accuracy: 0.8634\n",
            "Epoch 17/20\n",
            "170/170 [==============================] - 0s 2ms/step - loss: 1.1426 - accuracy: 0.8632\n",
            "Epoch 18/20\n",
            "170/170 [==============================] - 0s 2ms/step - loss: 1.1318 - accuracy: 0.8639\n",
            "Epoch 19/20\n",
            "170/170 [==============================] - 0s 2ms/step - loss: 1.1120 - accuracy: 0.8648\n",
            "Epoch 20/20\n",
            "170/170 [==============================] - 0s 2ms/step - loss: 1.0969 - accuracy: 0.8640\n"
          ]
        }
      ]
    },
    {
      "cell_type": "code",
      "source": [
        "#define a plot function\n",
        "def plot_function(ep, hist, metrics_list):\n",
        "  plt.figure()\n",
        "  plt.xlabel('Epochs')\n",
        "  plt.ylabel('Value')\n",
        "  for m in metrics_list:\n",
        "    plt.plot(ep[1:],hist[m][1:],label=m)\n",
        "  plt.title('Metrics Curve')\n",
        "  plt.legend()\n",
        "  plt.show()"
      ],
      "metadata": {
        "id": "casGGXX-b8U8"
      },
      "execution_count": 10,
      "outputs": []
    },
    {
      "cell_type": "code",
      "source": [
        "# plot our accuracy curve\n",
        "ep = history.epoch \n",
        "hist = pd.DataFrame(history.history) #isolating the classification metric for each epoch\n",
        "metrics_list = ['accuracy']\n",
        "\n",
        "plot_function(ep, hist, metrics_list)"
      ],
      "metadata": {
        "colab": {
          "base_uri": "https://localhost:8080/",
          "height": 295
        },
        "id": "FJZN14PnVO5n",
        "outputId": "ec781cbc-7f41-43f7-8525-d466b3b079a6"
      },
      "execution_count": 11,
      "outputs": [
        {
          "output_type": "display_data",
          "data": {
            "text/plain": [
              "<Figure size 432x288 with 1 Axes>"
            ],
            "image/png": "[encoded data removed]"
          },
          "metadata": {
            "needs_background": "light"
          }
        }
      ]
    },
    {
      "cell_type": "code",
      "source": [
        "# evaluate the model using the test data\n",
        "model.evaluate(x=test_feature, y=test_label, batch_size=batch_size)"
      ],
      "metadata": {
        "colab": {
          "base_uri": "https://localhost:8080/"
        },
        "id": "aZnea2BDVUjg",
        "outputId": "e8630d3e-434b-4a30-e67d-d81704a57755"
      },
      "execution_count": 12,
      "outputs": [
        {
          "output_type": "stream",
          "name": "stderr",
          "text": [
            "WARNING:tensorflow:Layers in a Sequential model should only have a single input tensor. Received: inputs={'longitude': <tf.Tensor 'IteratorGetNext:3' shape=(100,) dtype=float32>, 'latitude': <tf.Tensor 'IteratorGetNext:2' shape=(100,) dtype=float32>, 'housing_median_age': <tf.Tensor 'IteratorGetNext:1' shape=(100,) dtype=float32>, 'total_rooms': <tf.Tensor 'IteratorGetNext:8' shape=(100,) dtype=float32>, 'total_bedrooms': <tf.Tensor 'IteratorGetNext:7' shape=(100,) dtype=float32>, 'population': <tf.Tensor 'IteratorGetNext:6' shape=(100,) dtype=float32>, 'households': <tf.Tensor 'IteratorGetNext:0' shape=(100,) dtype=float32>, 'median_income': <tf.Tensor 'IteratorGetNext:5' shape=(100,) dtype=float32>, 'median_house_value': <tf.Tensor 'IteratorGetNext:4' shape=(100,) dtype=float32>}. Consider rewriting this model with the Functional API.\n"
          ]
        },
        {
          "output_type": "stream",
          "name": "stdout",
          "text": [
            "30/30 [==============================] - 0s 2ms/step - loss: 1.1511 - accuracy: 0.8560\n"
          ]
        },
        {
          "output_type": "execute_result",
          "data": {
            "text/plain": [
              "[1.1511492729187012, 0.8560000061988831]"
            ]
          },
          "metadata": {},
          "execution_count": 12
        }
      ]
    },
    {
      "cell_type": "markdown",
      "source": [
        "Accuracy is not a good enough metric to evaluate our model, we will be adding precision and recall to our metrics in order to properly eveluate the model."
      ],
      "metadata": {
        "id": "5zQ9X5LEZ3AQ"
      }
    },
    {
      "cell_type": "code",
      "source": [
        "#initiating our model\n",
        "new_model = keras.models.Sequential()\n",
        "\n",
        "# adding our layers\n",
        "new_model.add(feature_layer)\n",
        "new_model.add(keras.layers.Dense(units=1, input_shape = (1,),activation=tf.sigmoid))\n",
        "\n",
        "# adding our optimizer and loss function\n",
        "lr = 0.001\n",
        "classification_threshold = 0.52\n",
        "opt = tf.keras.optimizers.RMSprop(lr=lr)\n",
        "loss = tf.keras.losses.BinaryCrossentropy()\n",
        "acc = tf.keras.metrics.BinaryAccuracy(name='accuracy', \n",
        "                              threshold=classification_threshold)\n",
        "pre = tf.keras.metrics.Precision(thresholds=classification_threshold,\n",
        "                                 name='precision')\n",
        "re = tf.keras.metrics.Recall(thresholds=classification_threshold,\n",
        "                                 name='recall')\n",
        "metrics = metrics=[acc, pre, re]\n",
        "#compile\n",
        "new_model.compile(optimizer=opt, loss = loss, metrics=metrics)"
      ],
      "metadata": {
        "colab": {
          "base_uri": "https://localhost:8080/"
        },
        "id": "rvh3lXQaaEBY",
        "outputId": "d2d94b4c-cdd5-4188-fbaf-d32884bab1cf"
      },
      "execution_count": 13,
      "outputs": [
        {
          "output_type": "stream",
          "name": "stderr",
          "text": [
            "/usr/local/lib/python3.8/dist-packages/keras/optimizers/optimizer_v2/rmsprop.py:135: UserWarning: The `lr` argument is deprecated, use `learning_rate` instead.\n",
            "  super(RMSprop, self).__init__(name, **kwargs)\n"
          ]
        }
      ]
    },
    {
      "cell_type": "code",
      "source": [
        "# fit our new model with the training data\n",
        "new_history = new_model.fit(x=train_features, y=train_label, batch_size=batch_size, epochs=epochs)"
      ],
      "metadata": {
        "colab": {
          "base_uri": "https://localhost:8080/"
        },
        "id": "yPDC_TKwbuvK",
        "outputId": "506ed353-853b-43fb-debd-ae33fe8f9380"
      },
      "execution_count": 14,
      "outputs": [
        {
          "output_type": "stream",
          "name": "stdout",
          "text": [
            "Epoch 1/20\n"
          ]
        },
        {
          "output_type": "stream",
          "name": "stderr",
          "text": [
            "WARNING:tensorflow:Layers in a Sequential model should only have a single input tensor. Received: inputs={'longitude': <tf.Tensor 'IteratorGetNext:3' shape=(100,) dtype=float32>, 'latitude': <tf.Tensor 'IteratorGetNext:2' shape=(100,) dtype=float32>, 'housing_median_age': <tf.Tensor 'IteratorGetNext:1' shape=(100,) dtype=float32>, 'total_rooms': <tf.Tensor 'IteratorGetNext:8' shape=(100,) dtype=float32>, 'total_bedrooms': <tf.Tensor 'IteratorGetNext:7' shape=(100,) dtype=float32>, 'population': <tf.Tensor 'IteratorGetNext:6' shape=(100,) dtype=float32>, 'households': <tf.Tensor 'IteratorGetNext:0' shape=(100,) dtype=float32>, 'median_income': <tf.Tensor 'IteratorGetNext:5' shape=(100,) dtype=float32>, 'median_house_value': <tf.Tensor 'IteratorGetNext:4' shape=(100,) dtype=float32>}. Consider rewriting this model with the Functional API.\n",
            "WARNING:tensorflow:Layers in a Sequential model should only have a single input tensor. Received: inputs={'longitude': <tf.Tensor 'IteratorGetNext:3' shape=(100,) dtype=float32>, 'latitude': <tf.Tensor 'IteratorGetNext:2' shape=(100,) dtype=float32>, 'housing_median_age': <tf.Tensor 'IteratorGetNext:1' shape=(100,) dtype=float32>, 'total_rooms': <tf.Tensor 'IteratorGetNext:8' shape=(100,) dtype=float32>, 'total_bedrooms': <tf.Tensor 'IteratorGetNext:7' shape=(100,) dtype=float32>, 'population': <tf.Tensor 'IteratorGetNext:6' shape=(100,) dtype=float32>, 'households': <tf.Tensor 'IteratorGetNext:0' shape=(100,) dtype=float32>, 'median_income': <tf.Tensor 'IteratorGetNext:5' shape=(100,) dtype=float32>, 'median_house_value': <tf.Tensor 'IteratorGetNext:4' shape=(100,) dtype=float32>}. Consider rewriting this model with the Functional API.\n"
          ]
        },
        {
          "output_type": "stream",
          "name": "stdout",
          "text": [
            "170/170 [==============================] - 1s 2ms/step - loss: 0.6967 - accuracy: 0.7115 - precision: 0.3258 - recall: 0.7166\n",
            "Epoch 2/20\n",
            "170/170 [==============================] - 0s 2ms/step - loss: 0.6275 - accuracy: 0.7426 - precision: 0.3514 - recall: 0.6806\n",
            "Epoch 3/20\n",
            "170/170 [==============================] - 0s 2ms/step - loss: 0.5650 - accuracy: 0.7702 - precision: 0.3794 - recall: 0.6392\n",
            "Epoch 4/20\n",
            "170/170 [==============================] - 0s 2ms/step - loss: 0.5090 - accuracy: 0.7954 - precision: 0.4125 - recall: 0.5952\n",
            "Epoch 5/20\n",
            "170/170 [==============================] - 0s 2ms/step - loss: 0.4600 - accuracy: 0.8229 - precision: 0.4647 - recall: 0.5520\n",
            "Epoch 6/20\n",
            "170/170 [==============================] - 0s 2ms/step - loss: 0.4186 - accuracy: 0.8435 - precision: 0.5212 - recall: 0.5131\n",
            "Epoch 7/20\n",
            "170/170 [==============================] - 0s 2ms/step - loss: 0.3856 - accuracy: 0.8614 - precision: 0.5942 - recall: 0.4771\n",
            "Epoch 8/20\n",
            "170/170 [==============================] - 0s 2ms/step - loss: 0.3598 - accuracy: 0.8743 - precision: 0.6726 - recall: 0.4490\n",
            "Epoch 9/20\n",
            "170/170 [==============================] - 0s 2ms/step - loss: 0.3421 - accuracy: 0.8814 - precision: 0.7416 - recall: 0.4206\n",
            "Epoch 10/20\n",
            "170/170 [==============================] - 0s 2ms/step - loss: 0.3303 - accuracy: 0.8837 - precision: 0.7903 - recall: 0.3921\n",
            "Epoch 11/20\n",
            "170/170 [==============================] - 0s 2ms/step - loss: 0.3230 - accuracy: 0.8844 - precision: 0.8142 - recall: 0.3788\n",
            "Epoch 12/20\n",
            "170/170 [==============================] - 0s 2ms/step - loss: 0.3184 - accuracy: 0.8837 - precision: 0.8200 - recall: 0.3691\n",
            "Epoch 13/20\n",
            "170/170 [==============================] - 0s 2ms/step - loss: 0.3159 - accuracy: 0.8836 - precision: 0.8272 - recall: 0.3637\n",
            "Epoch 14/20\n",
            "170/170 [==============================] - 0s 2ms/step - loss: 0.3145 - accuracy: 0.8842 - precision: 0.8217 - recall: 0.3716\n",
            "Epoch 15/20\n",
            "170/170 [==============================] - 0s 2ms/step - loss: 0.3137 - accuracy: 0.8841 - precision: 0.8215 - recall: 0.3713\n",
            "Epoch 16/20\n",
            "170/170 [==============================] - 0s 2ms/step - loss: 0.3132 - accuracy: 0.8845 - precision: 0.8190 - recall: 0.3763\n",
            "Epoch 17/20\n",
            "170/170 [==============================] - 0s 2ms/step - loss: 0.3129 - accuracy: 0.8847 - precision: 0.8164 - recall: 0.3795\n",
            "Epoch 18/20\n",
            "170/170 [==============================] - 0s 2ms/step - loss: 0.3128 - accuracy: 0.8842 - precision: 0.8095 - recall: 0.3810\n",
            "Epoch 19/20\n",
            "170/170 [==============================] - 0s 2ms/step - loss: 0.3127 - accuracy: 0.8842 - precision: 0.8071 - recall: 0.3828\n",
            "Epoch 20/20\n",
            "170/170 [==============================] - 0s 2ms/step - loss: 0.3126 - accuracy: 0.8845 - precision: 0.8087 - recall: 0.3835\n"
          ]
        }
      ]
    },
    {
      "cell_type": "code",
      "source": [
        "#plotting out metrics curves\n",
        "new_ep = new_history.epoch\n",
        "new_hist = pd.DataFrame(new_history.history)\n",
        "new_metrics_list = ['accuracy', 'precision', 'recall']\n",
        "\n",
        "plot_function(new_ep, new_hist, new_metrics_list)"
      ],
      "metadata": {
        "colab": {
          "base_uri": "https://localhost:8080/",
          "height": 295
        },
        "id": "MSNihGU3fSxP",
        "outputId": "6cc596d6-4513-4888-cdf9-a011dc1ea3f8"
      },
      "execution_count": 15,
      "outputs": [
        {
          "output_type": "display_data",
          "data": {
            "text/plain": [
              "<Figure size 432x288 with 1 Axes>"
            ],
            "image/png": "[encoded data removed]"
          },
          "metadata": {
            "needs_background": "light"
          }
        }
      ]
    },
    {
      "cell_type": "code",
      "source": [],
      "metadata": {
        "id": "A5Lm8GWCncT9"
      },
      "execution_count": null,
      "outputs": []
    }
  ]
}